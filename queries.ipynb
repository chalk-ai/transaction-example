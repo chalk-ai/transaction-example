{
 "cells": [
  {
   "cell_type": "code",
   "execution_count": 3,
   "id": "initial_id",
   "metadata": {
    "collapsed": true,
    "ExecuteTime": {
     "end_time": "2024-10-09T00:32:10.006859Z",
     "start_time": "2024-10-09T00:32:09.999577Z"
    }
   },
   "outputs": [],
   "source": [
    "from chalk.client import ChalkClient \n",
    "from src.models import Transaction, User"
   ]
  },
  {
   "cell_type": "code",
   "outputs": [],
   "source": [
    "client = ChalkClient(branch=\"main\")"
   ],
   "metadata": {
    "collapsed": false,
    "ExecuteTime": {
     "end_time": "2024-10-09T00:38:14.153782Z",
     "start_time": "2024-10-09T00:38:12.440655Z"
    }
   },
   "id": "56a1f8039a5be3da",
   "execution_count": 9
  },
  {
   "cell_type": "code",
   "outputs": [
    {
     "name": "stdout",
     "output_type": "stream",
     "text": [
      "\u001B[2K\u001B[1A\u001B[2K\u001B[1A\u001B[2K\u001B[1A\u001B[2K\u001B[1A\u001B[2K\u001B[1A\u001B[2K\u001B[1A\u001B[2K\u001B[1A\u001B[2K\u001B[1A\u001B[2K\u001B[1A\u001B[2K\u001B[38;2;54;165;135m╭─\u001B[0m\u001B[38;2;54;165;135m───────────────────────────────────────────────\u001B[0m\u001B[38;2;54;165;135m chalk ■ \u001B[0m\u001B[38;2;54;165;135m───────────────────────────────────────────────\u001B[0m\u001B[38;2;54;165;135m─╮\u001B[0m\n",
      "\u001B[38;2;54;165;135m│\u001B[0m                                                                                                         \u001B[38;2;54;165;135m│\u001B[0m\n",
      "\u001B[38;2;54;165;135m│\u001B[0m  \u001B[38;2;54;165;135mThe `DatasetRevision` is still being computed. to_pandas() will execute once computation is complete.\u001B[0m  \u001B[38;2;54;165;135m│\u001B[0m\n",
      "\u001B[38;2;54;165;135m│\u001B[0m                                                                                                         \u001B[38;2;54;165;135m│\u001B[0m\n",
      "\u001B[38;2;54;165;135m│\u001B[0m  Dataset Recomputation completed   \u001B[38;2;146;137;204m0:00:02\u001B[0m                                                              \u001B[38;2;54;165;135m│\u001B[0m\n",
      "\u001B[38;2;54;165;135m│\u001B[0m     \u001B[38;2;146;137;204m0:00:00\u001B[0m \u001B[38;2;54;165;135m━━━━━━━━━━━━━━━━━━━━━━━━━━━━━━━━━━━━━━━━\u001B[0m \u001B[38;2;54;165;135m2/2\u001B[0m \u001B[38;2;54;165;135mruns\u001B[0m [ get_transactions ]                      \u001B[38;2;54;165;135m│\u001B[0m\n",
      "\u001B[38;2;54;165;135m│\u001B[0m     \u001B[38;2;146;137;204m0:00:00\u001B[0m \u001B[38;2;54;165;135m━━━━━━━━━━━━━━━━━━━━━━━━━━━━━━━━━━━━━━━━\u001B[0m \u001B[38;2;54;165;135m1/1\u001B[0m \u001B[38;2;54;165;135mruns\u001B[0m [ get_transaction_categories ]            \u001B[38;2;54;165;135m│\u001B[0m\n",
      "\u001B[38;2;54;165;135m│\u001B[0m     \u001B[38;2;146;137;204m0:00:00\u001B[0m \u001B[38;2;54;165;135m━━━━━━━━━━━━━━━━━━━━━━━━━━━━━━━━━━━━━━━━\u001B[0m \u001B[38;2;54;165;135m6/6\u001B[0m \u001B[38;2;54;165;135mruns\u001B[0m [ get_structured_outputs ]                \u001B[38;2;54;165;135m│\u001B[0m\n",
      "\u001B[38;2;54;165;135m│\u001B[0m                                                                                                         \u001B[38;2;54;165;135m│\u001B[0m\n",
      "\u001B[38;2;54;165;135m╰─────────────────────────────────────────────────────────────────────────────────────────────────────────╯\u001B[0m\n",
      "\u001B[?25h"
     ]
    },
    {
     "data": {
      "text/plain": "   user.amount_transactions__86400__  user.id  \\\n0                                 10        1   \n1                                  0        2   \n2                                  0        3   \n\n   user.amount_transactions__2592000__  user.count_transactions__86400__  \\\n0                                   30                                 0   \n1                                   70                                 0   \n2                                  110                                 0   \n\n   user.count_transactions__2592000__  user.count_transactions__7776000__  \n0                                   0                                   0  \n1                                   0                                   0  \n2                                   0                                   0  ",
      "text/html": "<div>\n<style scoped>\n    .dataframe tbody tr th:only-of-type {\n        vertical-align: middle;\n    }\n\n    .dataframe tbody tr th {\n        vertical-align: top;\n    }\n\n    .dataframe thead th {\n        text-align: right;\n    }\n</style>\n<table border=\"1\" class=\"dataframe\">\n  <thead>\n    <tr style=\"text-align: right;\">\n      <th></th>\n      <th>user.amount_transactions__86400__</th>\n      <th>user.id</th>\n      <th>user.amount_transactions__2592000__</th>\n      <th>user.count_transactions__86400__</th>\n      <th>user.count_transactions__2592000__</th>\n      <th>user.count_transactions__7776000__</th>\n    </tr>\n  </thead>\n  <tbody>\n    <tr>\n      <th>0</th>\n      <td>10</td>\n      <td>1</td>\n      <td>30</td>\n      <td>0</td>\n      <td>0</td>\n      <td>0</td>\n    </tr>\n    <tr>\n      <th>1</th>\n      <td>0</td>\n      <td>2</td>\n      <td>70</td>\n      <td>0</td>\n      <td>0</td>\n      <td>0</td>\n    </tr>\n    <tr>\n      <th>2</th>\n      <td>0</td>\n      <td>3</td>\n      <td>110</td>\n      <td>0</td>\n      <td>0</td>\n      <td>0</td>\n    </tr>\n  </tbody>\n</table>\n</div>"
     },
     "execution_count": 11,
     "metadata": {},
     "output_type": "execute_result"
    }
   ],
   "source": [
    "ds = client.offline_query(\n",
    "    input={User.id: [1, 2, 3]},\n",
    "    output=[User.amount_transactions, User.count_transactions],\n",
    "    recompute_features=True\n",
    ")\n",
    "ds.to_pandas()"
   ],
   "metadata": {
    "collapsed": false
   },
   "id": "553f75deb0b6bca8",
   "execution_count": 11
  },
  {
   "cell_type": "code",
   "outputs": [],
   "source": [],
   "metadata": {
    "collapsed": false
   },
   "id": "7bf10b6efe5957f6"
  }
 ],
 "metadata": {
  "kernelspec": {
   "display_name": "Python 3",
   "language": "python",
   "name": "python3"
  },
  "language_info": {
   "codemirror_mode": {
    "name": "ipython",
    "version": 2
   },
   "file_extension": ".py",
   "mimetype": "text/x-python",
   "name": "python",
   "nbconvert_exporter": "python",
   "pygments_lexer": "ipython2",
   "version": "2.7.6"
  }
 },
 "nbformat": 4,
 "nbformat_minor": 5
}
