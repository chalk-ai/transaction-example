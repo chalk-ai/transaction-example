{
 "cells": [
  {
   "cell_type": "code",
   "execution_count": 1,
   "id": "initial_id",
   "metadata": {
    "collapsed": true,
    "ExecuteTime": {
     "end_time": "2024-10-09T00:44:31.613273Z",
     "start_time": "2024-10-09T00:44:29.630160Z"
    }
   },
   "outputs": [],
   "source": [
    "from chalk.client import ChalkClient\n",
    "from src.models import User, Transaction"
   ]
  },
  {
   "cell_type": "code",
   "outputs": [],
   "source": [
    "client = ChalkClient(branch=\"main\")"
   ],
   "metadata": {
    "collapsed": false,
    "ExecuteTime": {
     "end_time": "2024-10-09T00:44:45.238802Z",
     "start_time": "2024-10-09T00:44:43.270764Z"
    }
   },
   "id": "13a3b06a02688ba0",
   "execution_count": 2
  },
  {
   "cell_type": "code",
   "outputs": [
    {
     "name": "stdout",
     "output_type": "stream",
     "text": [
      "\u001B[2K\u001B[1A\u001B[2K\u001B[1A\u001B[2K\u001B[1A\u001B[2K\u001B[1A\u001B[2K\u001B[1A\u001B[2K\u001B[1A\u001B[2K\u001B[38;2;54;165;135m╭─\u001B[0m\u001B[38;2;54;165;135m───────────────────────────────────────────────────\u001B[0m\u001B[38;2;54;165;135m chalk ■ \u001B[0m\u001B[38;2;54;165;135m───────────────────────────────────────────────────\u001B[0m\u001B[38;2;54;165;135m─╮\u001B[0m\n",
      "\u001B[38;2;54;165;135m│\u001B[0m                                                                                                                 \u001B[38;2;54;165;135m│\u001B[0m\n",
      "\u001B[38;2;54;165;135m│\u001B[0m  \u001B[38;2;54;165;135mThe `DatasetRevision` is still being computed. to_pandas() will execute once computation is complete.        \u001B[0m  \u001B[38;2;54;165;135m│\u001B[0m\n",
      "\u001B[38;2;54;165;135m│\u001B[0m                                                                                                                 \u001B[38;2;54;165;135m│\u001B[0m\n",
      "\u001B[38;2;54;165;135m│\u001B[0m  Dataset Recomputation completed   \u001B[38;2;146;137;204m0:00:01\u001B[0m                                                                      \u001B[38;2;54;165;135m│\u001B[0m\n",
      "\u001B[38;2;54;165;135m│\u001B[0m                                                                                                                 \u001B[38;2;54;165;135m│\u001B[0m\n",
      "\u001B[38;2;54;165;135m╰─────────────────────────────────────────────────────────────────────────────────────────────────────────────────╯\u001B[0m\n",
      "\u001B[?25h"
     ]
    },
    {
     "data": {
      "text/plain": "   user.count_payments__86400__  user.id  user.count_payments__2592000__  \\\n0                             0        1                               0   \n1                             0        2                               0   \n2                             0        3                               0   \n\n   user.count_payments__604800__  \n0                              0  \n1                              0  \n2                              0  ",
      "text/html": "<div>\n<style scoped>\n    .dataframe tbody tr th:only-of-type {\n        vertical-align: middle;\n    }\n\n    .dataframe tbody tr th {\n        vertical-align: top;\n    }\n\n    .dataframe thead th {\n        text-align: right;\n    }\n</style>\n<table border=\"1\" class=\"dataframe\">\n  <thead>\n    <tr style=\"text-align: right;\">\n      <th></th>\n      <th>user.count_payments__86400__</th>\n      <th>user.id</th>\n      <th>user.count_payments__2592000__</th>\n      <th>user.count_payments__604800__</th>\n    </tr>\n  </thead>\n  <tbody>\n    <tr>\n      <th>0</th>\n      <td>0</td>\n      <td>1</td>\n      <td>0</td>\n      <td>0</td>\n    </tr>\n    <tr>\n      <th>1</th>\n      <td>0</td>\n      <td>2</td>\n      <td>0</td>\n      <td>0</td>\n    </tr>\n    <tr>\n      <th>2</th>\n      <td>0</td>\n      <td>3</td>\n      <td>0</td>\n      <td>0</td>\n    </tr>\n  </tbody>\n</table>\n</div>"
     },
     "execution_count": 8,
     "metadata": {},
     "output_type": "execute_result"
    }
   ],
   "source": [
    "ds = client.offline_query(\n",
    "    input={User.id: [1]},\n",
    "    output=[User.count_payments],\n",
    "    recompute_features=True\n",
    ")\n",
    "ds.to_pandas()"
   ],
   "metadata": {
    "collapsed": false
   },
   "id": "8a3c9180636bb52c",
   "execution_count": 8
  },
  {
   "cell_type": "code",
   "outputs": [
    {
     "name": "stdout",
     "output_type": "stream",
     "text": [
      "\u001B[2K\u001B[1A\u001B[2K\u001B[1A\u001B[2K\u001B[1A\u001B[2K\u001B[1A\u001B[2K\u001B[1A\u001B[2K\u001B[1A\u001B[2K\u001B[1A\u001B[2K\u001B[38;2;54;165;135m╭─\u001B[0m\u001B[38;2;54;165;135m───────────────────────────────────────────────\u001B[0m\u001B[38;2;54;165;135m chalk ■ \u001B[0m\u001B[38;2;54;165;135m───────────────────────────────────────────────\u001B[0m\u001B[38;2;54;165;135m─╮\u001B[0m\n",
      "\u001B[38;2;54;165;135m│\u001B[0m                                                                                                         \u001B[38;2;54;165;135m│\u001B[0m\n",
      "\u001B[38;2;54;165;135m│\u001B[0m  \u001B[38;2;54;165;135mThe `DatasetRevision` is still being computed. to_pandas() will execute once computation is complete.\u001B[0m  \u001B[38;2;54;165;135m│\u001B[0m\n",
      "\u001B[38;2;54;165;135m│\u001B[0m                                                                                                         \u001B[38;2;54;165;135m│\u001B[0m\n",
      "\u001B[38;2;54;165;135m│\u001B[0m  Dataset Recomputation completed   \u001B[38;2;146;137;204m0:00:02\u001B[0m                                                              \u001B[38;2;54;165;135m│\u001B[0m\n",
      "\u001B[38;2;54;165;135m│\u001B[0m     \u001B[38;2;146;137;204m0:00:01\u001B[0m \u001B[38;2;54;165;135m━━━━━━━━━━━━━━━━━━━━━━━━━━━━━━━━━━━━━━━━\u001B[0m \u001B[38;2;54;165;135m3/3\u001B[0m \u001B[38;2;54;165;135mruns\u001B[0m [ get_transaction_category ]              \u001B[38;2;54;165;135m│\u001B[0m\n",
      "\u001B[38;2;54;165;135m│\u001B[0m     \u001B[38;2;146;137;204m0:00:00\u001B[0m \u001B[38;2;54;165;135m━━━━━━━━━━━━━━━━━━━━━━━━━━━━━━━━━━━━━━━━\u001B[0m \u001B[38;2;54;165;135m3/3\u001B[0m \u001B[38;2;54;165;135mruns\u001B[0m [ get_structured_outputs ]                \u001B[38;2;54;165;135m│\u001B[0m\n",
      "\u001B[38;2;54;165;135m│\u001B[0m                                                                                                         \u001B[38;2;54;165;135m│\u001B[0m\n",
      "\u001B[38;2;54;165;135m╰─────────────────────────────────────────────────────────────────────────────────────────────────────────╯\u001B[0m\n",
      "\u001B[?25h"
     ]
    },
    {
     "data": {
      "text/plain": "   transaction.user_id  transaction.amount  transaction.id  \\\n0                    1              -12.45               1   \n1                    1              -12.45               2   \n2                    1              -64.50               3   \n\n  transaction.category  \n0                 food  \n1       Food and Drink  \n2             Shopping  ",
      "text/html": "<div>\n<style scoped>\n    .dataframe tbody tr th:only-of-type {\n        vertical-align: middle;\n    }\n\n    .dataframe tbody tr th {\n        vertical-align: top;\n    }\n\n    .dataframe thead th {\n        text-align: right;\n    }\n</style>\n<table border=\"1\" class=\"dataframe\">\n  <thead>\n    <tr style=\"text-align: right;\">\n      <th></th>\n      <th>transaction.user_id</th>\n      <th>transaction.amount</th>\n      <th>transaction.id</th>\n      <th>transaction.category</th>\n    </tr>\n  </thead>\n  <tbody>\n    <tr>\n      <th>0</th>\n      <td>1</td>\n      <td>-12.45</td>\n      <td>1</td>\n      <td>food</td>\n    </tr>\n    <tr>\n      <th>1</th>\n      <td>1</td>\n      <td>-12.45</td>\n      <td>2</td>\n      <td>Food and Drink</td>\n    </tr>\n    <tr>\n      <th>2</th>\n      <td>1</td>\n      <td>-64.50</td>\n      <td>3</td>\n      <td>Shopping</td>\n    </tr>\n  </tbody>\n</table>\n</div>"
     },
     "execution_count": 9,
     "metadata": {},
     "output_type": "execute_result"
    }
   ],
   "source": [
    "ds2 = client.offline_query(\n",
    "    input={Transaction.id: [1, 2, 3, 4, 5]},\n",
    "    output=[Transaction.memo, Transaction.user_id, Transaction.amount],\n",
    "    recompute_features=True\n",
    ")\n",
    "ds2.to_pandas()"
   ],
   "metadata": {
    "collapsed": false
   },
   "id": "98b772f267f26e19",
   "execution_count": 9
  },
  {
   "cell_type": "code",
   "outputs": [],
   "source": [],
   "metadata": {
    "collapsed": false
   },
   "id": "66aa43d0c6767371"
  }
 ],
 "metadata": {
  "kernelspec": {
   "display_name": "Python 3",
   "language": "python",
   "name": "python3"
  },
  "language_info": {
   "codemirror_mode": {
    "name": "ipython",
    "version": 2
   },
   "file_extension": ".py",
   "mimetype": "text/x-python",
   "name": "python",
   "nbconvert_exporter": "python",
   "pygments_lexer": "ipython2",
   "version": "2.7.6"
  }
 },
 "nbformat": 4,
 "nbformat_minor": 5
}
