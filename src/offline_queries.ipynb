{
 "cells": [
  {
   "cell_type": "code",
   "execution_count": 1,
   "id": "initial_id",
   "metadata": {
    "collapsed": true,
    "ExecuteTime": {
     "end_time": "2024-10-09T00:44:31.613273Z",
     "start_time": "2024-10-09T00:44:29.630160Z"
    }
   },
   "outputs": [],
   "source": [
    "from chalk.client import ChalkClient\n",
    "from src.models import User, Transaction"
   ]
  },
  {
   "cell_type": "code",
   "outputs": [],
   "source": [
    "client = ChalkClient(branch=\"main\")"
   ],
   "metadata": {
    "collapsed": false,
    "ExecuteTime": {
     "end_time": "2024-10-09T00:44:45.238802Z",
     "start_time": "2024-10-09T00:44:43.270764Z"
    }
   },
   "id": "13a3b06a02688ba0",
   "execution_count": 2
  },
  {
   "metadata": {},
   "cell_type": "code",
   "outputs": [],
   "execution_count": null,
   "source": [
    "ds = client.offline_query(\n",
    "    input={User.id: range(10)},\n",
    "    output=[User],\n",
    "    recompute_features=True\n",
    ")\n",
    "ds.to_pandas()"
   ],
   "id": "f680f1566dd08b56"
  },
  {
   "metadata": {},
   "cell_type": "code",
   "outputs": [],
   "execution_count": null,
   "source": [
    "ds2 = client.offline_query(\n",
    "    input={Transaction.id: [1, 2, 3, 4, 5]},\n",
    "    output=[Transaction.memo, Transaction.user_id, Transaction.amount],\n",
    "    recompute_features=True\n",
    ")\n",
    "ds2.to_pandas()"
   ],
   "id": "adb856b69c5f8838"
  },
  {
   "cell_type": "code",
   "outputs": [],
   "source": [],
   "metadata": {
    "collapsed": false
   },
   "id": "66aa43d0c6767371",
   "execution_count": null
  }
 ],
 "metadata": {
  "kernelspec": {
   "display_name": "Python 3",
   "language": "python",
   "name": "python3"
  },
  "language_info": {
   "codemirror_mode": {
    "name": "ipython",
    "version": 2
   },
   "file_extension": ".py",
   "mimetype": "text/x-python",
   "name": "python",
   "nbconvert_exporter": "python",
   "pygments_lexer": "ipython2",
   "version": "2.7.6"
  }
 },
 "nbformat": 4,
 "nbformat_minor": 5
}
