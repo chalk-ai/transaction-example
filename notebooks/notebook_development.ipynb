{
 "cells": [
  {
   "cell_type": "code",
   "execution_count": 1,
   "id": "d831bd07b46fc2a4",
   "metadata": {},
   "outputs": [],
   "source": [
    "# Import the python chalk client: the client is used to run queries (which will let you \n",
    "# compute features and build datasets)\n",
    "from chalk.client import ChalkClient"
   ]
  },
  {
   "cell_type": "markdown",
   "id": "75f44e5b-bf14-467b-b6d6-8d294ce036f1",
   "metadata": {},
   "source": [
    "# Notebook Development In Chalk\n",
    "\n",
    "Chalk allows you to run queries, make datasets, and write new features directly from a Jupyter Notebook. In this notebook, we'll walk \n",
    "through some of the supported features of Chalk Notebook development:\n",
    "\n",
    "1. Creating a new branch based on your main deployment and loading features defined in your main deployment into your notebook\n",
    "2. Running online queries\n",
    "3. Running offline queries\n",
    "4. Defining new features:\n",
    "    - Defining Alias Expressions\n",
    "    - Defining New Feature Classes\n",
    "    - Defining New Features on Existing Feature Classes\n",
    "    - Defining SQL Resolvers\n",
    "    - Defining New Python Resolvers"
   ]
  },
  {
   "cell_type": "markdown",
   "id": "2904856c-a6d6-40b0-81d5-1eb492cf5efb",
   "metadata": {},
   "source": [
    "## 1. Creating a Branch & Loading Features\n",
    "\n",
    "In Chalk, branch deployments are used to test out new functionality and build out new features. To begin building out features, we create a new `chalk branch` that\n",
    "copies over features and resolvers from your main chalk deployment. We then call load features, which will import your feature classes into the notebook and list\n",
    "out the different Features that your team has already built out! "
   ]
  },
  {
   "cell_type": "code",
   "execution_count": 2,
   "id": "ed3f372a6ebc3b64",
   "metadata": {},
   "outputs": [
    {
     "name": "stdout",
     "output_type": "stream",
     "text": [
      "Branch notebook-demo already exists. Client is being updated to point to that branch, but a new deployment is not being created.\n",
      "Branch set to 'notebook-demo'\n"
     ]
    },
    {
     "data": {
      "application/vnd.jupyter.widget-view+json": {
       "model_id": "5107cc636c7c4d0984907242e7f0f55b",
       "version_major": 2,
       "version_minor": 0
      },
      "text/plain": [
       "Output()"
      ]
     },
     "metadata": {},
     "output_type": "display_data"
    },
    {
     "data": {
      "text/html": [
       "<pre style=\"white-space:pre;overflow-x:auto;line-height:normal;font-family:Menlo,'DejaVu Sans Mono',consolas,'Courier New',monospace\"></pre>\n"
      ],
      "text/plain": []
     },
     "metadata": {},
     "output_type": "display_data"
    },
    {
     "data": {
      "application/vnd.jupyter.widget-view+json": {
       "model_id": "7adaaeed77bb434c96bb7b60c9f340d8",
       "version_major": 2,
       "version_minor": 0
      },
      "text/plain": [
       "Combobox(value='', continuous_update=False, ensure_option=True, layout=Layout(width='auto'), options=('CreditR…"
      ]
     },
     "metadata": {},
     "output_type": "display_data"
    },
    {
     "data": {
      "application/vnd.jupyter.widget-view+json": {
       "model_id": "01ee02937c75469eabd6d95d50396db7",
       "version_major": 2,
       "version_minor": 0
      },
      "text/plain": [
       "Output()"
      ]
     },
     "metadata": {},
     "output_type": "display_data"
    }
   ],
   "source": [
    "client = ChalkClient(branch=\"notebook-demo\")\n",
    "client.get_or_create_branch(branch_name=\"notebook-demo\")\n",
    "client.load_features()"
   ]
  },
  {
   "cell_type": "markdown",
   "id": "31025cdf1698a63a",
   "metadata": {},
   "source": [
    "## 2. Running Online Queries\n",
    "\n",
    "The Chalk python client (`ChalkClient`) can be used to run online queries. To run an online query, specify the output features you want for a given input primary key: Chalk identifies which resolvers need to be run to caclulate your outputs."
   ]
  },
  {
   "cell_type": "code",
   "execution_count": 3,
   "id": "a094a69b423d6a0b",
   "metadata": {},
   "outputs": [
    {
     "data": {
      "text/html": [
       "<div>\n",
       "<style scoped>\n",
       "    .dataframe tbody tr th:only-of-type {\n",
       "        vertical-align: middle;\n",
       "    }\n",
       "\n",
       "    .dataframe tbody tr th {\n",
       "        vertical-align: top;\n",
       "    }\n",
       "\n",
       "    .dataframe thead th {\n",
       "        text-align: right;\n",
       "    }\n",
       "</style>\n",
       "<table border=\"1\" class=\"dataframe\">\n",
       "  <thead>\n",
       "    <tr style=\"text-align: right;\">\n",
       "      <th></th>\n",
       "      <th>Feature</th>\n",
       "      <th>Value</th>\n",
       "    </tr>\n",
       "  </thead>\n",
       "  <tbody>\n",
       "    <tr>\n",
       "      <th>0</th>\n",
       "      <td>id</td>\n",
       "      <td>1</td>\n",
       "    </tr>\n",
       "    <tr>\n",
       "      <th>1</th>\n",
       "      <td>email</td>\n",
       "      <td>nicoleam@nasa.gov</td>\n",
       "    </tr>\n",
       "    <tr>\n",
       "      <th>2</th>\n",
       "      <td>name</td>\n",
       "      <td>Nicole Mann</td>\n",
       "    </tr>\n",
       "    <tr>\n",
       "      <th>3</th>\n",
       "      <td>dob</td>\n",
       "      <td>1977-08-27</td>\n",
       "    </tr>\n",
       "    <tr>\n",
       "      <th>4</th>\n",
       "      <td>email_username</td>\n",
       "      <td>nicoleam</td>\n",
       "    </tr>\n",
       "    <tr>\n",
       "      <th>5</th>\n",
       "      <td>domain_name</td>\n",
       "      <td>nasa.gov</td>\n",
       "    </tr>\n",
       "    <tr>\n",
       "      <th>6</th>\n",
       "      <td>denylisted</td>\n",
       "      <td>False</td>\n",
       "    </tr>\n",
       "    <tr>\n",
       "      <th>7</th>\n",
       "      <td>name_email_match_score</td>\n",
       "      <td>75.0</td>\n",
       "    </tr>\n",
       "    <tr>\n",
       "      <th>8</th>\n",
       "      <td>emailage_response</td>\n",
       "      <td>{\"domainAge\": 10200, \"domainname\": \"nasa.gov\",...</td>\n",
       "    </tr>\n",
       "    <tr>\n",
       "      <th>9</th>\n",
       "      <td>email_age_days</td>\n",
       "      <td>2642</td>\n",
       "    </tr>\n",
       "    <tr>\n",
       "      <th>10</th>\n",
       "      <td>domain_age_days</td>\n",
       "      <td>10200</td>\n",
       "    </tr>\n",
       "    <tr>\n",
       "      <th>11</th>\n",
       "      <td>credit_report_id</td>\n",
       "      <td>123</td>\n",
       "    </tr>\n",
       "    <tr>\n",
       "      <th>12</th>\n",
       "      <td>total_spend</td>\n",
       "      <td>5239.06</td>\n",
       "    </tr>\n",
       "    <tr>\n",
       "      <th>13</th>\n",
       "      <td>count_transfers[1d]</td>\n",
       "      <td>0</td>\n",
       "    </tr>\n",
       "    <tr>\n",
       "      <th>14</th>\n",
       "      <td>count_transfers[7d]</td>\n",
       "      <td>0</td>\n",
       "    </tr>\n",
       "    <tr>\n",
       "      <th>15</th>\n",
       "      <td>count_transfers[30d]</td>\n",
       "      <td>0</td>\n",
       "    </tr>\n",
       "    <tr>\n",
       "      <th>16</th>\n",
       "      <td>llm</td>\n",
       "      <td>{'response': '**Fraud Risk Assessment:**\n",
       "\n",
       "Base...</td>\n",
       "    </tr>\n",
       "    <tr>\n",
       "      <th>17</th>\n",
       "      <td>llm_response</td>\n",
       "      <td>**Fraud Risk Assessment:**\\n\\nBased on the inp...</td>\n",
       "    </tr>\n",
       "    <tr>\n",
       "      <th>18</th>\n",
       "      <td>percent_past_due</td>\n",
       "      <td>0.0</td>\n",
       "    </tr>\n",
       "  </tbody>\n",
       "</table>\n",
       "</div>"
      ],
      "text/markdown": [
       "\n",
       "## Features\n",
       "```\n",
       "┌─────────────────────────────────┬─────────────────────────────────┐\n",
       "│ Feature                         ┆ Value                           │\n",
       "╞═════════════════════════════════╪═════════════════════════════════╡\n",
       "│ user.id                         ┆ 1                               │\n",
       "│ user.email                      ┆ nicoleam@nasa.gov               │\n",
       "│ user.name                       ┆ Nicole Mann                     │\n",
       "│ user.dob                        ┆ 1977-08-27                      │\n",
       "│ user.email_username             ┆ nicoleam                        │\n",
       "│ …                               ┆ …                               │\n",
       "│ user.count_transfers__604800__  ┆ 0                               │\n",
       "│ user.count_transfers__2592000_… ┆ 0                               │\n",
       "│ user.llm                        ┆ {'response': '**Fraud Risk Ass… │\n",
       "│ user.llm_response               ┆ **Fraud Risk Assessment:**      │\n",
       "│                                 ┆                                 │\n",
       "│                                 ┆ Ba…                             │\n",
       "│ user.credit_report.percent_pas… ┆ 0                               │\n",
       "└─────────────────────────────────┴─────────────────────────────────┘\n",
       "```"
      ],
      "text/plain": [
       "                                Feature  \\\n",
       "0                               user.id   \n",
       "1                            user.email   \n",
       "2                             user.name   \n",
       "3                              user.dob   \n",
       "4                   user.email_username   \n",
       "5                      user.domain_name   \n",
       "6                       user.denylisted   \n",
       "7           user.name_email_match_score   \n",
       "8                user.emailage_response   \n",
       "9                   user.email_age_days   \n",
       "10                 user.domain_age_days   \n",
       "11                user.credit_report_id   \n",
       "12                     user.total_spend   \n",
       "13        user.count_transfers__86400__   \n",
       "14       user.count_transfers__604800__   \n",
       "15      user.count_transfers__2592000__   \n",
       "16                             user.llm   \n",
       "17                    user.llm_response   \n",
       "18  user.credit_report.percent_past_due   \n",
       "\n",
       "                                                Value  \n",
       "0                                                   1  \n",
       "1                                   nicoleam@nasa.gov  \n",
       "2                                         Nicole Mann  \n",
       "3                                          1977-08-27  \n",
       "4                                            nicoleam  \n",
       "5                                            nasa.gov  \n",
       "6                                               False  \n",
       "7                                                75.0  \n",
       "8   {\"domainAge\": 10200, \"domainname\": \"nasa.gov\",...  \n",
       "9                                                2642  \n",
       "10                                              10200  \n",
       "11                                                123  \n",
       "12                                            5239.06  \n",
       "13                                                  0  \n",
       "14                                                  0  \n",
       "15                                                  0  \n",
       "16  {'response': '**Fraud Risk Assessment:**\\n\\nBa...  \n",
       "17  **Fraud Risk Assessment:**\\n\\nBased on the inp...  \n",
       "18                                                0.0  "
      ]
     },
     "execution_count": 3,
     "metadata": {},
     "output_type": "execute_result"
    }
   ],
   "source": [
    "result = client.query(\n",
    "    input={User.id: 1},\n",
    "    output=[\n",
    "        User,\n",
    "        User.credit_report.percent_past_due,\n",
    "    ],\n",
    "    staleness={\n",
    "        User.credit_report.percent_past_due: \"0s\",\n",
    "    }\n",
    ")\n",
    "result"
   ]
  },
  {
   "cell_type": "code",
   "execution_count": 4,
   "id": "1c6d17dc-0d63-4f24-a21e-224bce0c1b13",
   "metadata": {},
   "outputs": [
    {
     "data": {
      "text/html": [
       "<div>\n",
       "<style scoped>\n",
       "    .dataframe tbody tr th:only-of-type {\n",
       "        vertical-align: middle;\n",
       "    }\n",
       "\n",
       "    .dataframe tbody tr th {\n",
       "        vertical-align: top;\n",
       "    }\n",
       "\n",
       "    .dataframe thead th {\n",
       "        text-align: right;\n",
       "    }\n",
       "</style>\n",
       "<table border=\"1\" class=\"dataframe\">\n",
       "  <thead>\n",
       "    <tr style=\"text-align: right;\">\n",
       "      <th></th>\n",
       "      <th>transaction.name_memo_sim</th>\n",
       "      <th>transaction.at</th>\n",
       "      <th>transaction.completion</th>\n",
       "      <th>transaction.category</th>\n",
       "      <th>transaction.is_nsf</th>\n",
       "      <th>transaction.is_ach</th>\n",
       "      <th>transaction.id</th>\n",
       "      <th>transaction.amount</th>\n",
       "      <th>transaction.memo</th>\n",
       "      <th>transaction.clean_memo</th>\n",
       "      <th>transaction.user_id</th>\n",
       "    </tr>\n",
       "  </thead>\n",
       "  <tbody>\n",
       "    <tr>\n",
       "      <th>0</th>\n",
       "      <td>0.111111</td>\n",
       "      <td>2024-09-01 08:10:29+00:00</td>\n",
       "      <td>{\"category\": \"transfer\", \"is_nsf\": false, \"cle...</td>\n",
       "      <td>transfer</td>\n",
       "      <td>False</td>\n",
       "      <td>True</td>\n",
       "      <td>172</td>\n",
       "      <td>150.00</td>\n",
       "      <td>ACH TRANSFER 5432109876</td>\n",
       "      <td>ACH TRANSFER</td>\n",
       "      <td>1</td>\n",
       "    </tr>\n",
       "    <tr>\n",
       "      <th>1</th>\n",
       "      <td>0.117647</td>\n",
       "      <td>2024-09-01 10:35:45+00:00</td>\n",
       "      <td>{\"category\": \"Food &amp; Drink\", \"is_nsf\": false, ...</td>\n",
       "      <td>Food &amp; Drink</td>\n",
       "      <td>False</td>\n",
       "      <td>False</td>\n",
       "      <td>173</td>\n",
       "      <td>-7.45</td>\n",
       "      <td>Starbucks 56789</td>\n",
       "      <td>Starbucks</td>\n",
       "      <td>1</td>\n",
       "    </tr>\n",
       "    <tr>\n",
       "      <th>2</th>\n",
       "      <td>0.142857</td>\n",
       "      <td>2024-09-01 13:45:33+00:00</td>\n",
       "      <td>{\"category\": \"shopping\", \"is_nsf\": false, \"cle...</td>\n",
       "      <td>shopping</td>\n",
       "      <td>False</td>\n",
       "      <td>False</td>\n",
       "      <td>174</td>\n",
       "      <td>-79.56</td>\n",
       "      <td>SQ - Target 07/01</td>\n",
       "      <td>Target</td>\n",
       "      <td>1</td>\n",
       "    </tr>\n",
       "    <tr>\n",
       "      <th>3</th>\n",
       "      <td>0.285714</td>\n",
       "      <td>2024-09-02 07:35:16+00:00</td>\n",
       "      <td>{\"category\": \"Food\", \"is_nsf\": false, \"clean_m...</td>\n",
       "      <td>Food</td>\n",
       "      <td>False</td>\n",
       "      <td>False</td>\n",
       "      <td>169</td>\n",
       "      <td>-45.78</td>\n",
       "      <td>SQ - Chipotle 9876</td>\n",
       "      <td>Chipotle</td>\n",
       "      <td>1</td>\n",
       "    </tr>\n",
       "    <tr>\n",
       "      <th>4</th>\n",
       "      <td>0.350000</td>\n",
       "      <td>2024-09-02 09:25:44+00:00</td>\n",
       "      <td>{\"category\": \"food\", \"is_nsf\": false, \"clean_m...</td>\n",
       "      <td>food</td>\n",
       "      <td>False</td>\n",
       "      <td>False</td>\n",
       "      <td>170</td>\n",
       "      <td>-12.89</td>\n",
       "      <td>Venmo Payment to Amy / Groceries</td>\n",
       "      <td>Venmo Payment to Amy / Groceries</td>\n",
       "      <td>1</td>\n",
       "    </tr>\n",
       "    <tr>\n",
       "      <th>...</th>\n",
       "      <td>...</td>\n",
       "      <td>...</td>\n",
       "      <td>...</td>\n",
       "      <td>...</td>\n",
       "      <td>...</td>\n",
       "      <td>...</td>\n",
       "      <td>...</td>\n",
       "      <td>...</td>\n",
       "      <td>...</td>\n",
       "      <td>...</td>\n",
       "      <td>...</td>\n",
       "    </tr>\n",
       "    <tr>\n",
       "      <th>153</th>\n",
       "      <td>0.117647</td>\n",
       "      <td>2024-10-15 08:15:22+00:00</td>\n",
       "      <td>{\"category\": \"Food and Drink\", \"is_nsf\": false...</td>\n",
       "      <td>Food and Drink</td>\n",
       "      <td>False</td>\n",
       "      <td>False</td>\n",
       "      <td>2</td>\n",
       "      <td>-12.45</td>\n",
       "      <td>Starbucks 57892</td>\n",
       "      <td>Starbucks</td>\n",
       "      <td>1</td>\n",
       "    </tr>\n",
       "    <tr>\n",
       "      <th>154</th>\n",
       "      <td>0.125000</td>\n",
       "      <td>2024-10-15 09:34:01+00:00</td>\n",
       "      <td>{\"category\": \"Shopping\", \"is_nsf\": false, \"cle...</td>\n",
       "      <td>Shopping</td>\n",
       "      <td>False</td>\n",
       "      <td>False</td>\n",
       "      <td>3</td>\n",
       "      <td>-64.50</td>\n",
       "      <td>SQ - WALMART SUPERCENTER #345</td>\n",
       "      <td>WALMART SUPERCENTER #345</td>\n",
       "      <td>1</td>\n",
       "    </tr>\n",
       "    <tr>\n",
       "      <th>155</th>\n",
       "      <td>0.214286</td>\n",
       "      <td>2024-10-15 11:48:16+00:00</td>\n",
       "      <td>{\"category\": \"Transportation\", \"is_nsf\": false...</td>\n",
       "      <td>Transportation</td>\n",
       "      <td>False</td>\n",
       "      <td>False</td>\n",
       "      <td>4</td>\n",
       "      <td>-32.78</td>\n",
       "      <td>Uber ride 08/15</td>\n",
       "      <td>Uber ride</td>\n",
       "      <td>1</td>\n",
       "    </tr>\n",
       "    <tr>\n",
       "      <th>156</th>\n",
       "      <td>0.111111</td>\n",
       "      <td>2024-10-15 14:22:45+00:00</td>\n",
       "      <td>{\"category\": \"ACH Transfer\", \"is_nsf\": false, ...</td>\n",
       "      <td>ACH Transfer</td>\n",
       "      <td>False</td>\n",
       "      <td>True</td>\n",
       "      <td>5</td>\n",
       "      <td>150.00</td>\n",
       "      <td>ACH TRANSFER 1234567890</td>\n",
       "      <td>ACH TRANSFER</td>\n",
       "      <td>1</td>\n",
       "    </tr>\n",
       "    <tr>\n",
       "      <th>157</th>\n",
       "      <td>0.176471</td>\n",
       "      <td>2024-10-15 18:37:59+00:00</td>\n",
       "      <td>{\"category\": \"payment\", \"is_nsf\": false, \"clea...</td>\n",
       "      <td>payment</td>\n",
       "      <td>False</td>\n",
       "      <td>True</td>\n",
       "      <td>6</td>\n",
       "      <td>-124.23</td>\n",
       "      <td>AUTOPAY PAYMENT - THANK YOU ONLINE PAYMENT</td>\n",
       "      <td>AUTOPAY PAYMENT</td>\n",
       "      <td>1</td>\n",
       "    </tr>\n",
       "  </tbody>\n",
       "</table>\n",
       "<p>158 rows × 11 columns</p>\n",
       "</div>"
      ],
      "text/plain": [
       "     transaction.name_memo_sim            transaction.at  \\\n",
       "0                     0.111111 2024-09-01 08:10:29+00:00   \n",
       "1                     0.117647 2024-09-01 10:35:45+00:00   \n",
       "2                     0.142857 2024-09-01 13:45:33+00:00   \n",
       "3                     0.285714 2024-09-02 07:35:16+00:00   \n",
       "4                     0.350000 2024-09-02 09:25:44+00:00   \n",
       "..                         ...                       ...   \n",
       "153                   0.117647 2024-10-15 08:15:22+00:00   \n",
       "154                   0.125000 2024-10-15 09:34:01+00:00   \n",
       "155                   0.214286 2024-10-15 11:48:16+00:00   \n",
       "156                   0.111111 2024-10-15 14:22:45+00:00   \n",
       "157                   0.176471 2024-10-15 18:37:59+00:00   \n",
       "\n",
       "                                transaction.completion transaction.category  \\\n",
       "0    {\"category\": \"transfer\", \"is_nsf\": false, \"cle...             transfer   \n",
       "1    {\"category\": \"Food & Drink\", \"is_nsf\": false, ...         Food & Drink   \n",
       "2    {\"category\": \"shopping\", \"is_nsf\": false, \"cle...             shopping   \n",
       "3    {\"category\": \"Food\", \"is_nsf\": false, \"clean_m...                 Food   \n",
       "4    {\"category\": \"food\", \"is_nsf\": false, \"clean_m...                 food   \n",
       "..                                                 ...                  ...   \n",
       "153  {\"category\": \"Food and Drink\", \"is_nsf\": false...       Food and Drink   \n",
       "154  {\"category\": \"Shopping\", \"is_nsf\": false, \"cle...             Shopping   \n",
       "155  {\"category\": \"Transportation\", \"is_nsf\": false...       Transportation   \n",
       "156  {\"category\": \"ACH Transfer\", \"is_nsf\": false, ...         ACH Transfer   \n",
       "157  {\"category\": \"payment\", \"is_nsf\": false, \"clea...              payment   \n",
       "\n",
       "     transaction.is_nsf  transaction.is_ach  transaction.id  \\\n",
       "0                 False                True             172   \n",
       "1                 False               False             173   \n",
       "2                 False               False             174   \n",
       "3                 False               False             169   \n",
       "4                 False               False             170   \n",
       "..                  ...                 ...             ...   \n",
       "153               False               False               2   \n",
       "154               False               False               3   \n",
       "155               False               False               4   \n",
       "156               False                True               5   \n",
       "157               False                True               6   \n",
       "\n",
       "     transaction.amount                            transaction.memo  \\\n",
       "0                150.00                     ACH TRANSFER 5432109876   \n",
       "1                 -7.45                             Starbucks 56789   \n",
       "2                -79.56                           SQ - Target 07/01   \n",
       "3                -45.78                          SQ - Chipotle 9876   \n",
       "4                -12.89            Venmo Payment to Amy / Groceries   \n",
       "..                  ...                                         ...   \n",
       "153              -12.45                             Starbucks 57892   \n",
       "154              -64.50               SQ - WALMART SUPERCENTER #345   \n",
       "155              -32.78                             Uber ride 08/15   \n",
       "156              150.00                     ACH TRANSFER 1234567890   \n",
       "157             -124.23  AUTOPAY PAYMENT - THANK YOU ONLINE PAYMENT   \n",
       "\n",
       "               transaction.clean_memo  transaction.user_id  \n",
       "0                        ACH TRANSFER                    1  \n",
       "1                           Starbucks                    1  \n",
       "2                              Target                    1  \n",
       "3                            Chipotle                    1  \n",
       "4    Venmo Payment to Amy / Groceries                    1  \n",
       "..                                ...                  ...  \n",
       "153                         Starbucks                    1  \n",
       "154          WALMART SUPERCENTER #345                    1  \n",
       "155                         Uber ride                    1  \n",
       "156                      ACH TRANSFER                    1  \n",
       "157                   AUTOPAY PAYMENT                    1  \n",
       "\n",
       "[158 rows x 11 columns]"
      ]
     },
     "execution_count": 4,
     "metadata": {},
     "output_type": "execute_result"
    }
   ],
   "source": [
    "result = client.query(\n",
    "    input={User.id: 1},\n",
    "    output=[\n",
    "        User.transactions\n",
    "    ],\n",
    "    staleness={\n",
    "        User.credit_report.percent_past_due: \"0s\",\n",
    "    }\n",
    ")\n",
    "\n",
    "# get the transactions from the online query as a pandas dataframe\n",
    "result.get_feature_value(User.transactions).to_pandas()"
   ]
  },
  {
   "cell_type": "markdown",
   "id": "2259ca1d4a6f93bb",
   "metadata": {},
   "source": [
    "## 3. Running Offline Queries\n",
    "\n",
    "Chalk offline queries return `Dataset`s which are lazy references to parquet files in cloud storage. These datasets can be pulled into your local machine by calling: `ds.to_pandas()` or `ds.to_polars()`.\n"
   ]
  },
  {
   "cell_type": "code",
   "execution_count": 5,
   "id": "4eeb9e4ae26566af",
   "metadata": {},
   "outputs": [
    {
     "data": {
      "text/plain": [
       "Dataset(name='user_features', version='6')"
      ]
     },
     "execution_count": 5,
     "metadata": {},
     "output_type": "execute_result"
    }
   ],
   "source": [
    "from chalk.client import Dataset, ResourceRequests\n",
    "\n",
    "# Chalk Offline\n",
    "dataset: Dataset = client.offline_query(\n",
    "    output=[\n",
    "        User.name,\n",
    "        User.denylisted,\n",
    "        User.name_email_match_score,\n",
    "        User.domain_name,\n",
    "        User.email_username,\n",
    "        User.total_spend,\n",
    "        User.credit_report.percent_past_due,\n",
    "    ],\n",
    "    recompute_features=[User.credit_report.percent_past_due],\n",
    "    \n",
    "    ## offline queries support horizontal and vertical scaling: they can be sharded and configured to run on their own \n",
    "    ## separate pods with a specified amounts of memory and cpu.\n",
    "    # run_asynchronously=True,\n",
    "    # ResourceRequests(cpu=4, memory=\"16Gi\"),\n",
    "    # num_shards=1, \n",
    "    \n",
    "    max_samples=30,\n",
    "    dataset_name=\"user_features\"\n",
    ")\n",
    "dataset"
   ]
  },
  {
   "cell_type": "code",
   "execution_count": 6,
   "id": "cba7110afa668dc4",
   "metadata": {},
   "outputs": [
    {
     "name": "stdout",
     "output_type": "stream",
     "text": [
      "\u001b[2K\u001b[1A\u001b[2K\u001b[1A\u001b[2K\u001b[1A\u001b[2K\u001b[1A\u001b[2K\u001b[1A\u001b[2K\u001b[1A\u001b[2K\u001b[38;2;54;165;135m╭─\u001b[0m\u001b[38;2;54;165;135m───────────────────────────────────────────────────\u001b[0m\u001b[38;2;54;165;135m chalk ■ \u001b[0m\u001b[38;2;54;165;135m───────────────────────────────────────────────────\u001b[0m\u001b[38;2;54;165;135m─╮\u001b[0m\n",
      "\u001b[38;2;54;165;135m│\u001b[0m                                                                                                                 \u001b[38;2;54;165;135m│\u001b[0m\n",
      "\u001b[38;2;54;165;135m│\u001b[0m  \u001b[38;2;54;165;135mThe `DatasetRevision` is still being computed. to_pandas() will execute once computation is complete.        \u001b[0m  \u001b[38;2;54;165;135m│\u001b[0m\n",
      "\u001b[38;2;54;165;135m│\u001b[0m                                                                                                                 \u001b[38;2;54;165;135m│\u001b[0m\n",
      "\u001b[38;2;54;165;135m│\u001b[0m  Offline Query completed   \u001b[38;2;146;137;204m0:01:16\u001b[0m                                                                              \u001b[38;2;54;165;135m│\u001b[0m\n",
      "\u001b[38;2;54;165;135m│\u001b[0m                                                                                                                 \u001b[38;2;54;165;135m│\u001b[0m\n",
      "\u001b[38;2;54;165;135m╰─────────────────────────────────────────────────────────────────────────────────────────────────────────────────╯\u001b[0m\n",
      "\u001b[?25h"
     ]
    },
    {
     "data": {
      "text/html": [
       "<div>\n",
       "<style scoped>\n",
       "    .dataframe tbody tr th:only-of-type {\n",
       "        vertical-align: middle;\n",
       "    }\n",
       "\n",
       "    .dataframe tbody tr th {\n",
       "        vertical-align: top;\n",
       "    }\n",
       "\n",
       "    .dataframe thead th {\n",
       "        text-align: right;\n",
       "    }\n",
       "</style>\n",
       "<table border=\"1\" class=\"dataframe\">\n",
       "  <thead>\n",
       "    <tr style=\"text-align: right;\">\n",
       "      <th></th>\n",
       "      <th>user.name</th>\n",
       "      <th>user.denylisted</th>\n",
       "      <th>user.name_email_match_score</th>\n",
       "      <th>user.domain_name</th>\n",
       "      <th>user.email_username</th>\n",
       "      <th>user.total_spend</th>\n",
       "      <th>user.credit_report.id</th>\n",
       "      <th>user.id</th>\n",
       "      <th>user.credit_report.percent_past_due</th>\n",
       "    </tr>\n",
       "  </thead>\n",
       "  <tbody>\n",
       "    <tr>\n",
       "      <th>0</th>\n",
       "      <td>Emily Carter</td>\n",
       "      <td>False</td>\n",
       "      <td>75.0</td>\n",
       "      <td>gmail.com</td>\n",
       "      <td>emily_carter21</td>\n",
       "      <td>NaN</td>\n",
       "      <td>123</td>\n",
       "      <td>4</td>\n",
       "      <td>0.0</td>\n",
       "    </tr>\n",
       "    <tr>\n",
       "      <th>1</th>\n",
       "      <td>Nicole Mann</td>\n",
       "      <td>False</td>\n",
       "      <td>75.0</td>\n",
       "      <td>nasa.gov</td>\n",
       "      <td>nicoleam</td>\n",
       "      <td>NaN</td>\n",
       "      <td>123</td>\n",
       "      <td>1</td>\n",
       "      <td>0.0</td>\n",
       "    </tr>\n",
       "  </tbody>\n",
       "</table>\n",
       "</div>"
      ],
      "text/plain": [
       "      user.name  user.denylisted  user.name_email_match_score  \\\n",
       "0  Emily Carter            False                         75.0   \n",
       "1   Nicole Mann            False                         75.0   \n",
       "\n",
       "  user.domain_name user.email_username  user.total_spend  \\\n",
       "0        gmail.com      emily_carter21               NaN   \n",
       "1         nasa.gov            nicoleam               NaN   \n",
       "\n",
       "   user.credit_report.id  user.id  user.credit_report.percent_past_due  \n",
       "0                    123        4                                  0.0  \n",
       "1                    123        1                                  0.0  "
      ]
     },
     "execution_count": 6,
     "metadata": {},
     "output_type": "execute_result"
    }
   ],
   "source": [
    "df = dataset.to_pandas()\n",
    "df"
   ]
  },
  {
   "cell_type": "markdown",
   "id": "d1f19214-46be-4f67-80a2-3b8cb6a0ac19",
   "metadata": {},
   "source": [
    "### Reading an Existing Dataset\n",
    "\n",
    "`client.offline_query` takes a `dataset_name` parameter. If this is supplied, the dataset can be read in a future session or by another user through it's name. It will also be searchable in the chalk dashboard by that name."
   ]
  },
  {
   "cell_type": "code",
   "execution_count": 4,
   "id": "8eb68139-5228-4064-b445-2d726127b190",
   "metadata": {},
   "outputs": [
    {
     "data": {
      "text/plain": [
       "Dataset(name='user_features', version='6')"
      ]
     },
     "execution_count": 4,
     "metadata": {},
     "output_type": "execute_result"
    }
   ],
   "source": [
    "dataset = client.get_dataset(dataset_name=\"user_features\")\n",
    "dataset"
   ]
  },
  {
   "cell_type": "markdown",
   "id": "b99fc858-ceca-4d29-b7d4-6c5a4913d811",
   "metadata": {},
   "source": [
    "## 4. Creating New Features"
   ]
  },
  {
   "cell_type": "markdown",
   "id": "e3830df2-9e20-4450-9b07-776c31c2c2c0",
   "metadata": {},
   "source": [
    "### Alias Expressions\n",
    "\n",
    "[Chalk Expressions](https://docs.chalk.ai/docs/underscore) can be used to create and alias dynamic features. This is done by requesting an aliased expression as the output for a query:"
   ]
  },
  {
   "cell_type": "code",
   "execution_count": 5,
   "id": "90871d6b-af2e-4172-94b4-2af34d6596b6",
   "metadata": {},
   "outputs": [],
   "source": [
    "from chalk.features import _\n",
    "result = client.query(\n",
    "    input={User.id: 1},\n",
    "    output=[\n",
    "        User.transactions,\n",
    "        (_.transactions[_.amount].mean()).alias(\"average_transaction_amt\")\n",
    "    ],\n",
    ")\n",
    "\n",
    "# get the t"
   ]
  },
  {
   "cell_type": "markdown",
   "id": "ea0bed8a-83bc-48ae-8e00-d84f9cbc7bcd",
   "metadata": {},
   "source": [
    "### New Feature Classes\n",
    "\n",
    "New features classes can be defined in notebook cells—[Chalk feature classes](https://docs.chalk.ai/docs/features) resemble pydantic base models or dataclasses. They contain features which are annotated using python type annotation."
   ]
  },
  {
   "cell_type": "code",
   "execution_count": 6,
   "id": "4cc7f933-8107-4d23-97b8-e2aa5e6412ad",
   "metadata": {},
   "outputs": [],
   "source": [
    "from chalk.features import features\n",
    "\n",
    "@features\n",
    "class Brand:\n",
    "    id: int\n",
    "    name: str\n",
    "    industry: str\n",
    "    url: str"
   ]
  },
  {
   "cell_type": "markdown",
   "id": "54c63767-9497-4060-946d-3a59bef6a4ee",
   "metadata": {},
   "source": [
    "### New SQL Resolvers\n",
    "\n",
    "SQL resolvers can be written for these new feature classes to pull data from data sources which have been linked in your Chalk dashboard. For example, the resolver below pulls features from a brands table in the Postgres datasource (named pg), which was connected in the Chalk dashboard."
   ]
  },
  {
   "cell_type": "code",
   "execution_count": 11,
   "id": "201d1b16-f449-4b49-945d-51b1cbc11fa1",
   "metadata": {},
   "outputs": [],
   "source": [
    "%%sql_resolver get_brands\n",
    "-- resolves: Brand\n",
    "-- source: postgres\n",
    "SELECT id, name, industry, url FROM brands"
   ]
  },
  {
   "cell_type": "code",
   "execution_count": 12,
   "id": "db252a75-92f8-4885-88b6-33b471b3fd34",
   "metadata": {
    "scrolled": true
   },
   "outputs": [
    {
     "data": {
      "text/html": [
       "<div>\n",
       "<style scoped>\n",
       "    .dataframe tbody tr th:only-of-type {\n",
       "        vertical-align: middle;\n",
       "    }\n",
       "\n",
       "    .dataframe tbody tr th {\n",
       "        vertical-align: top;\n",
       "    }\n",
       "\n",
       "    .dataframe thead th {\n",
       "        text-align: right;\n",
       "    }\n",
       "</style>\n",
       "<table border=\"1\" class=\"dataframe\">\n",
       "  <thead>\n",
       "    <tr style=\"text-align: right;\">\n",
       "      <th></th>\n",
       "      <th>Feature</th>\n",
       "      <th>Value</th>\n",
       "    </tr>\n",
       "  </thead>\n",
       "  <tbody>\n",
       "    <tr>\n",
       "      <th>0</th>\n",
       "      <td>name</td>\n",
       "      <td>Nike</td>\n",
       "    </tr>\n",
       "    <tr>\n",
       "      <th>1</th>\n",
       "      <td>industry</td>\n",
       "      <td>Sportswear</td>\n",
       "    </tr>\n",
       "    <tr>\n",
       "      <th>2</th>\n",
       "      <td>url</td>\n",
       "      <td>https://www.nike.com</td>\n",
       "    </tr>\n",
       "  </tbody>\n",
       "</table>\n",
       "</div>"
      ],
      "text/markdown": [
       "\n",
       "## Features\n",
       "```\n",
       "┌────────────────┬──────────────────────┐\n",
       "│ Feature        ┆ Value                │\n",
       "╞════════════════╪══════════════════════╡\n",
       "│ brand.name     ┆ Nike                 │\n",
       "│ brand.industry ┆ Sportswear           │\n",
       "│ brand.url      ┆ https://www.nike.com │\n",
       "└────────────────┴──────────────────────┘\n",
       "```"
      ],
      "text/plain": [
       "          Feature                 Value\n",
       "0      brand.name                  Nike\n",
       "1  brand.industry            Sportswear\n",
       "2       brand.url  https://www.nike.com"
      ]
     },
     "execution_count": 12,
     "metadata": {},
     "output_type": "execute_result"
    }
   ],
   "source": [
    "# Lets query our new feature!\n",
    "\n",
    "client.query(\n",
    "    input={Brand.id: 1},\n",
    "    output=[Brand.name, Brand.industry, Brand.url]\n",
    ") "
   ]
  },
  {
   "cell_type": "markdown",
   "id": "2c8f6be7-b029-4d37-ab16-351e603b5f6d",
   "metadata": {},
   "source": [
    "### Python Resolvers\n",
    "\n",
    "Feature classes can be updated and you can write python resolvers to derive features from the base features you're pulling from Postgres. Below, we write a python resolver, which gets the html for a brand's site. "
   ]
  },
  {
   "cell_type": "code",
   "execution_count": 13,
   "id": "7e468884-8749-42ff-ac1e-dc37c12127dd",
   "metadata": {},
   "outputs": [],
   "source": [
    "# Update features and create derived features\n",
    "\n",
    "@features\n",
    "class Brand:\n",
    "    id: int\n",
    "    name: str\n",
    "    industry: str\n",
    "    url: str\n",
    "    site_html: str | None\n",
    "\n",
    "\n",
    "# create a python online resolver for the new feature\n",
    "\n",
    "from chalk import online\n",
    "import requests\n",
    "\n",
    "@online\n",
    "def get_brand_site(url: Brand.url) -> Brand.site_html:\n",
    "    result = requests.get(url)\n",
    "    if result.status_code == 200:\n",
    "        return result.content\n",
    "    else:\n",
    "        return None"
   ]
  },
  {
   "cell_type": "code",
   "execution_count": 14,
   "id": "6013bcc9-1fac-4433-9b88-49e6ac8037a2",
   "metadata": {},
   "outputs": [
    {
     "name": "stdout",
     "output_type": "stream",
     "text": [
      "b'<!DOCTYPE html><html lang=\"en-US\"><head><meta charSet=\"utf-8\"/><meta name=\"viewport\" content=\"width=' ...\n"
     ]
    }
   ],
   "source": [
    "# Test Resolvers as Python Functions\n",
    "\n",
    "test_result = get_brand_site('https://www.nike.com')\n",
    "print(test_result[:100], \"...\")"
   ]
  },
  {
   "cell_type": "code",
   "execution_count": 16,
   "id": "3c299540-ac55-440b-93f1-012ed7e4da91",
   "metadata": {},
   "outputs": [
    {
     "data": {
      "text/html": [
       "<div>\n",
       "<style scoped>\n",
       "    .dataframe tbody tr th:only-of-type {\n",
       "        vertical-align: middle;\n",
       "    }\n",
       "\n",
       "    .dataframe tbody tr th {\n",
       "        vertical-align: top;\n",
       "    }\n",
       "\n",
       "    .dataframe thead th {\n",
       "        text-align: right;\n",
       "    }\n",
       "</style>\n",
       "<table border=\"1\" class=\"dataframe\">\n",
       "  <thead>\n",
       "    <tr style=\"text-align: right;\">\n",
       "      <th></th>\n",
       "      <th>Feature</th>\n",
       "      <th>Value</th>\n",
       "    </tr>\n",
       "  </thead>\n",
       "  <tbody>\n",
       "    <tr>\n",
       "      <th>0</th>\n",
       "      <td>site_html</td>\n",
       "      <td>&lt;!DOCTYPE html&gt;&lt;html lang=\"en-US\"&gt;&lt;head&gt;&lt;meta ...</td>\n",
       "    </tr>\n",
       "  </tbody>\n",
       "</table>\n",
       "</div>"
      ],
      "text/markdown": [
       "\n",
       "## Features\n",
       "```\n",
       "┌─────────────────┬─────────────────────────────────┐\n",
       "│ Feature         ┆ Value                           │\n",
       "╞═════════════════╪═════════════════════════════════╡\n",
       "│ brand.site_html ┆ <!DOCTYPE html><html lang=\"en-… │\n",
       "└─────────────────┴─────────────────────────────────┘\n",
       "```"
      ],
      "text/plain": [
       "           Feature                                              Value\n",
       "0  brand.site_html  <!DOCTYPE html><html lang=\"en-US\"><head><meta ..."
      ]
     },
     "execution_count": 16,
     "metadata": {},
     "output_type": "execute_result"
    }
   ],
   "source": [
    "# Run an online query For new features\n",
    "client.query(\n",
    "    input={\n",
    "        Brand.id: 1,\n",
    "    },\n",
    "    output=[Brand.site_html]\n",
    ")\n"
   ]
  },
  {
   "cell_type": "markdown",
   "id": "bb8c5c14-ca61-48e4-83b5-2ddcc3892b68",
   "metadata": {},
   "source": [
    "### Adding New Features to Existing Feature Classes\n",
    "\n",
    "Notebook defined features can be added to existing feature classes—here we specify a join between Transaction and Brand (based on the cleaned_memo and the brand name."
   ]
  },
  {
   "cell_type": "markdown",
   "id": "c6561d82-bdb3-40e5-8fdb-1b9b6c019ac0",
   "metadata": {},
   "source": [
    "### New DataFrame Taking Resolvers"
   ]
  },
  {
   "cell_type": "code",
   "execution_count": 3,
   "id": "ca2ed435-aa6b-43b6-8cbc-10ad10822120",
   "metadata": {},
   "outputs": [],
   "source": [
    "from chalk import online\n",
    "from chalk.features import feature, _, DataFrame\n",
    "\n",
    "User.max_rolling_sum_2days = feature(typ=float)\n",
    "\n",
    "@online\n",
    "def get_max_transaction_rolling_2(transactions: User.transactions[_.amount, _.at]) -> User.max_rolling_sum_2days:\n",
    "    df = transactions.to_pandas()\n",
    "    return df.sort_values(by=\"transaction.at\")[\"transaction.amount\"].rolling(2).sum().max()"
   ]
  },
  {
   "cell_type": "code",
   "execution_count": 4,
   "id": "bc3aaa47-7d69-45fa-8242-49b1d4a2417e",
   "metadata": {},
   "outputs": [],
   "source": [
    "# Test new DataFrame Taking resolver:\n",
    "\n",
    "from datetime import datetime, timedelta\n",
    "\n",
    "test_df = DataFrame(\n",
    "    [\n",
    "        Transaction(id=\"1\", amount=10, at = datetime.now()),\n",
    "        Transaction(id=\"2\", amount=1000, at = datetime.now() - timedelta(days=2)),\n",
    "        Transaction(id=\"3\", amount=26, at = datetime.now() - timedelta(days=5)),\n",
    "        Transaction(id=\"4\", amount=3000, at = datetime.now() - timedelta(days=3)),\n",
    "        Transaction(id=\"5\", amount=1000, at = datetime.now() - timedelta(days=1))\n",
    "    ]\n",
    ")\n",
    "\n",
    "\n",
    "assert get_max_transaction_rolling_2(test_df) == 4000"
   ]
  },
  {
   "cell_type": "code",
   "execution_count": 5,
   "id": "7ec1b8c8-2592-4fba-b0a0-9305fad0b265",
   "metadata": {},
   "outputs": [
    {
     "data": {
      "text/html": [
       "<div>\n",
       "<style scoped>\n",
       "    .dataframe tbody tr th:only-of-type {\n",
       "        vertical-align: middle;\n",
       "    }\n",
       "\n",
       "    .dataframe tbody tr th {\n",
       "        vertical-align: top;\n",
       "    }\n",
       "\n",
       "    .dataframe thead th {\n",
       "        text-align: right;\n",
       "    }\n",
       "</style>\n",
       "<table border=\"1\" class=\"dataframe\">\n",
       "  <thead>\n",
       "    <tr style=\"text-align: right;\">\n",
       "      <th></th>\n",
       "      <th>Feature</th>\n",
       "      <th>Value</th>\n",
       "    </tr>\n",
       "  </thead>\n",
       "  <tbody>\n",
       "    <tr>\n",
       "      <th>0</th>\n",
       "      <td>max_rolling_sum_2days</td>\n",
       "      <td>981.33</td>\n",
       "    </tr>\n",
       "  </tbody>\n",
       "</table>\n",
       "</div>"
      ],
      "text/markdown": [
       "\n",
       "## Features\n",
       "```\n",
       "┌────────────────────────────┬────────┐\n",
       "│ Feature                    ┆ Value  │\n",
       "╞════════════════════════════╪════════╡\n",
       "│ user.max_rolling_sum_2days ┆ 981.33 │\n",
       "└────────────────────────────┴────────┘\n",
       "```"
      ],
      "text/plain": [
       "                      Feature   Value\n",
       "0  user.max_rolling_sum_2days  981.33"
      ]
     },
     "execution_count": 5,
     "metadata": {},
     "output_type": "execute_result"
    }
   ],
   "source": [
    "# Run an online query for new joined feature\n",
    "\n",
    "client.query(\n",
    "    input={\n",
    "        User.id: 1\n",
    "    },\n",
    "    output=[User.max_rolling_sum_2days]\n",
    ")"
   ]
  },
  {
   "cell_type": "code",
   "execution_count": null,
   "id": "87a1bb7a-78a6-49d2-beb7-023e6b390689",
   "metadata": {},
   "outputs": [],
   "source": []
  }
 ],
 "metadata": {
  "kernelspec": {
   "display_name": "chalk",
   "language": "python",
   "name": "chalk"
  },
  "language_info": {
   "codemirror_mode": {
    "name": "ipython",
    "version": 3
   },
   "file_extension": ".py",
   "mimetype": "text/x-python",
   "name": "python",
   "nbconvert_exporter": "python",
   "pygments_lexer": "ipython3",
   "version": "3.10.14"
  },
  "widgets": {
   "application/vnd.jupyter.widget-state+json": {
    "state": {},
    "version_major": 2,
    "version_minor": 0
   }
  }
 },
 "nbformat": 4,
 "nbformat_minor": 5
}
