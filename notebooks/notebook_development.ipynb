{
 "cells": [
  {
   "cell_type": "code",
   "execution_count": 5,
   "id": "d831bd07b46fc2a4",
   "metadata": {},
   "outputs": [],
   "source": [
    "# Import the python chalk client: the client is used to run queries (which will let you \n",
    "# compute features and build datasets)\n",
    "from chalk.client import ChalkClient"
   ]
  },
  {
   "cell_type": "markdown",
   "id": "75f44e5b-bf14-467b-b6d6-8d294ce036f1",
   "metadata": {},
   "source": [
    "# Notebook Development In Chalk\n",
    "\n",
    "Chalk allows you to run queries, make datasets, and write new features directly from a Jupyter Notebook. In this notebook, we'll show all the features available:\n",
    "\n",
    "1. Creating a new branch based on your main deployment and loading features defined in your main deployment into your notebook\n",
    "2. Running online queries\n",
    "3. Running offline queries\n",
    "4. Defining new features:\n",
    "    - Defining Alias Expressions\n",
    "    - Defining New Feature Classes\n",
    "    - Defining New Features on Existing Feature Classes\n",
    "    - Defining SQL Resolvers\n",
    "    - Defining New Python Resolvers"
   ]
  },
  {
   "cell_type": "markdown",
   "id": "2904856c-a6d6-40b0-81d5-1eb492cf5efb",
   "metadata": {},
   "source": [
    "## 1. Creating a Branch & Loading Features\n",
    "\n",
    "In Chalk, branch deployments are used to test out new functionality and build out new features. To begin building out features, we create a new `chalk branch` that\n",
    "copies over features and resolvers from your main chalk deployment. We then call load features, which will import your feature classes into the notebook and list\n",
    "out the different Features that your team has already built out! "
   ]
  },
  {
   "cell_type": "code",
   "execution_count": 2,
   "id": "ed3f372a6ebc3b64",
   "metadata": {},
   "outputs": [
    {
     "name": "stdout",
     "output_type": "stream",
     "text": [
      "Branch notebook-demo already exists. Client is being updated to point to that branch, but a new deployment is not being created.\n",
      "Branch set to 'notebook-demo'\n"
     ]
    },
    {
     "data": {
      "application/vnd.jupyter.widget-view+json": {
       "model_id": "85eb52e42ba5483c90f9398d6f9a3287",
       "version_major": 2,
       "version_minor": 0
      },
      "text/plain": [
       "Output()"
      ]
     },
     "metadata": {},
     "output_type": "display_data"
    },
    {
     "data": {
      "text/html": [
       "<pre style=\"white-space:pre;overflow-x:auto;line-height:normal;font-family:Menlo,'DejaVu Sans Mono',consolas,'Courier New',monospace\"></pre>\n"
      ],
      "text/plain": []
     },
     "metadata": {},
     "output_type": "display_data"
    },
    {
     "data": {
      "application/vnd.jupyter.widget-view+json": {
       "model_id": "d6fff78b78d94dd19bfb95e0c2b3ece4",
       "version_major": 2,
       "version_minor": 0
      },
      "text/plain": [
       "Combobox(value='', continuous_update=False, ensure_option=True, layout=Layout(width='auto'), options=('CreditR…"
      ]
     },
     "metadata": {},
     "output_type": "display_data"
    },
    {
     "data": {
      "application/vnd.jupyter.widget-view+json": {
       "model_id": "a712818f07864ce783f8aa456e640108",
       "version_major": 2,
       "version_minor": 0
      },
      "text/plain": [
       "Output()"
      ]
     },
     "metadata": {},
     "output_type": "display_data"
    }
   ],
   "source": [
    "client = ChalkClient(branch=\"notebook-demo\")\n",
    "client.get_or_create_branch(branch_name=\"notebook-demo\")\n",
    "client.load_features()"
   ]
  },
  {
   "cell_type": "markdown",
   "id": "31025cdf1698a63a",
   "metadata": {},
   "source": [
    "## 2. Running Online Queries\n",
    "\n",
    "The Chalk python client (`ChalkClient`) can be used to run online queries. To run an online query, specify the output features you want for a given input primary key: Chalk identifies which resolvers need to be run to caclulate your outputs."
   ]
  },
  {
   "cell_type": "code",
   "execution_count": null,
   "id": "a094a69b423d6a0b",
   "metadata": {},
   "outputs": [],
   "source": [
    "result = client.query(\n",
    "    input={User.id: 1},\n",
    "    output=[\n",
    "        User,\n",
    "        User.credit_report.percent_past_due,\n",
    "    ],\n",
    "    staleness={\n",
    "        User.credit_report.percent_past_due: \"0s\",\n",
    "    }\n",
    ")\n",
    "result"
   ]
  },
  {
   "cell_type": "code",
   "execution_count": 6,
   "id": "1c6d17dc-0d63-4f24-a21e-224bce0c1b13",
   "metadata": {},
   "outputs": [
    {
     "data": {
      "text/html": [
       "<div>\n",
       "<style scoped>\n",
       "    .dataframe tbody tr th:only-of-type {\n",
       "        vertical-align: middle;\n",
       "    }\n",
       "\n",
       "    .dataframe tbody tr th {\n",
       "        vertical-align: top;\n",
       "    }\n",
       "\n",
       "    .dataframe thead th {\n",
       "        text-align: right;\n",
       "    }\n",
       "</style>\n",
       "<table border=\"1\" class=\"dataframe\">\n",
       "  <thead>\n",
       "    <tr style=\"text-align: right;\">\n",
       "      <th></th>\n",
       "      <th>transaction.id</th>\n",
       "      <th>transaction.amount</th>\n",
       "      <th>transaction.memo</th>\n",
       "      <th>transaction.clean_memo</th>\n",
       "      <th>transaction.user_id</th>\n",
       "      <th>transaction.name_memo_sim</th>\n",
       "      <th>transaction.at</th>\n",
       "      <th>transaction.completion</th>\n",
       "      <th>transaction.category</th>\n",
       "      <th>transaction.is_nsf</th>\n",
       "      <th>transaction.is_ach</th>\n",
       "    </tr>\n",
       "  </thead>\n",
       "  <tbody>\n",
       "    <tr>\n",
       "      <th>0</th>\n",
       "      <td>172</td>\n",
       "      <td>150.00</td>\n",
       "      <td>ACH TRANSFER 5432109876</td>\n",
       "      <td>ACH TRANSFER</td>\n",
       "      <td>1</td>\n",
       "      <td>0.111111</td>\n",
       "      <td>2024-09-01 08:10:29+00:00</td>\n",
       "      <td>{\"category\": \"transfer\", \"is_nsf\": false, \"cle...</td>\n",
       "      <td>transfer</td>\n",
       "      <td>False</td>\n",
       "      <td>True</td>\n",
       "    </tr>\n",
       "    <tr>\n",
       "      <th>1</th>\n",
       "      <td>173</td>\n",
       "      <td>-7.45</td>\n",
       "      <td>Starbucks 56789</td>\n",
       "      <td>Starbucks</td>\n",
       "      <td>1</td>\n",
       "      <td>0.117647</td>\n",
       "      <td>2024-09-01 10:35:45+00:00</td>\n",
       "      <td>{\"category\": \"Food &amp; Drink\", \"is_nsf\": false, ...</td>\n",
       "      <td>Food &amp; Drink</td>\n",
       "      <td>False</td>\n",
       "      <td>False</td>\n",
       "    </tr>\n",
       "    <tr>\n",
       "      <th>2</th>\n",
       "      <td>174</td>\n",
       "      <td>-79.56</td>\n",
       "      <td>SQ - Target 07/01</td>\n",
       "      <td>Target</td>\n",
       "      <td>1</td>\n",
       "      <td>0.142857</td>\n",
       "      <td>2024-09-01 13:45:33+00:00</td>\n",
       "      <td>{\"category\": \"shopping\", \"is_nsf\": false, \"cle...</td>\n",
       "      <td>shopping</td>\n",
       "      <td>False</td>\n",
       "      <td>False</td>\n",
       "    </tr>\n",
       "    <tr>\n",
       "      <th>3</th>\n",
       "      <td>169</td>\n",
       "      <td>-45.78</td>\n",
       "      <td>SQ - Chipotle 9876</td>\n",
       "      <td>Chipotle</td>\n",
       "      <td>1</td>\n",
       "      <td>0.285714</td>\n",
       "      <td>2024-09-02 07:35:16+00:00</td>\n",
       "      <td>{\"category\": \"Food\", \"is_nsf\": false, \"clean_m...</td>\n",
       "      <td>Food</td>\n",
       "      <td>False</td>\n",
       "      <td>False</td>\n",
       "    </tr>\n",
       "    <tr>\n",
       "      <th>4</th>\n",
       "      <td>170</td>\n",
       "      <td>-12.89</td>\n",
       "      <td>Venmo Payment to Amy / Groceries</td>\n",
       "      <td>Venmo Payment to Amy / Groceries</td>\n",
       "      <td>1</td>\n",
       "      <td>0.350000</td>\n",
       "      <td>2024-09-02 09:25:44+00:00</td>\n",
       "      <td>{\"category\": \"food\", \"is_nsf\": false, \"clean_m...</td>\n",
       "      <td>food</td>\n",
       "      <td>False</td>\n",
       "      <td>False</td>\n",
       "    </tr>\n",
       "    <tr>\n",
       "      <th>...</th>\n",
       "      <td>...</td>\n",
       "      <td>...</td>\n",
       "      <td>...</td>\n",
       "      <td>...</td>\n",
       "      <td>...</td>\n",
       "      <td>...</td>\n",
       "      <td>...</td>\n",
       "      <td>...</td>\n",
       "      <td>...</td>\n",
       "      <td>...</td>\n",
       "      <td>...</td>\n",
       "    </tr>\n",
       "    <tr>\n",
       "      <th>153</th>\n",
       "      <td>2</td>\n",
       "      <td>-12.45</td>\n",
       "      <td>Starbucks 57892</td>\n",
       "      <td>Starbucks</td>\n",
       "      <td>1</td>\n",
       "      <td>0.117647</td>\n",
       "      <td>2024-10-15 08:15:22+00:00</td>\n",
       "      <td>{\"category\": \"Food and Drink\", \"is_nsf\": false...</td>\n",
       "      <td>Food and Drink</td>\n",
       "      <td>False</td>\n",
       "      <td>False</td>\n",
       "    </tr>\n",
       "    <tr>\n",
       "      <th>154</th>\n",
       "      <td>3</td>\n",
       "      <td>-64.50</td>\n",
       "      <td>SQ - WALMART SUPERCENTER #345</td>\n",
       "      <td>WALMART SUPERCENTER #345</td>\n",
       "      <td>1</td>\n",
       "      <td>0.125000</td>\n",
       "      <td>2024-10-15 09:34:01+00:00</td>\n",
       "      <td>{\"category\": \"Shopping\", \"is_nsf\": false, \"cle...</td>\n",
       "      <td>Shopping</td>\n",
       "      <td>False</td>\n",
       "      <td>False</td>\n",
       "    </tr>\n",
       "    <tr>\n",
       "      <th>155</th>\n",
       "      <td>4</td>\n",
       "      <td>-32.78</td>\n",
       "      <td>Uber ride 08/15</td>\n",
       "      <td>Uber ride</td>\n",
       "      <td>1</td>\n",
       "      <td>0.214286</td>\n",
       "      <td>2024-10-15 11:48:16+00:00</td>\n",
       "      <td>{\"category\": \"Transportation\", \"is_nsf\": false...</td>\n",
       "      <td>Transportation</td>\n",
       "      <td>False</td>\n",
       "      <td>False</td>\n",
       "    </tr>\n",
       "    <tr>\n",
       "      <th>156</th>\n",
       "      <td>5</td>\n",
       "      <td>150.00</td>\n",
       "      <td>ACH TRANSFER 1234567890</td>\n",
       "      <td>ACH TRANSFER</td>\n",
       "      <td>1</td>\n",
       "      <td>0.111111</td>\n",
       "      <td>2024-10-15 14:22:45+00:00</td>\n",
       "      <td>{\"category\": \"ACH Transfer\", \"is_nsf\": false, ...</td>\n",
       "      <td>ACH Transfer</td>\n",
       "      <td>False</td>\n",
       "      <td>True</td>\n",
       "    </tr>\n",
       "    <tr>\n",
       "      <th>157</th>\n",
       "      <td>6</td>\n",
       "      <td>-124.23</td>\n",
       "      <td>AUTOPAY PAYMENT - THANK YOU ONLINE PAYMENT</td>\n",
       "      <td>AUTOPAY PAYMENT</td>\n",
       "      <td>1</td>\n",
       "      <td>0.176471</td>\n",
       "      <td>2024-10-15 18:37:59+00:00</td>\n",
       "      <td>{\"category\": \"payment\", \"is_nsf\": false, \"clea...</td>\n",
       "      <td>payment</td>\n",
       "      <td>False</td>\n",
       "      <td>True</td>\n",
       "    </tr>\n",
       "  </tbody>\n",
       "</table>\n",
       "<p>158 rows × 11 columns</p>\n",
       "</div>"
      ],
      "text/plain": [
       "     transaction.id  transaction.amount  \\\n",
       "0               172              150.00   \n",
       "1               173               -7.45   \n",
       "2               174              -79.56   \n",
       "3               169              -45.78   \n",
       "4               170              -12.89   \n",
       "..              ...                 ...   \n",
       "153               2              -12.45   \n",
       "154               3              -64.50   \n",
       "155               4              -32.78   \n",
       "156               5              150.00   \n",
       "157               6             -124.23   \n",
       "\n",
       "                               transaction.memo  \\\n",
       "0                       ACH TRANSFER 5432109876   \n",
       "1                               Starbucks 56789   \n",
       "2                             SQ - Target 07/01   \n",
       "3                            SQ - Chipotle 9876   \n",
       "4              Venmo Payment to Amy / Groceries   \n",
       "..                                          ...   \n",
       "153                             Starbucks 57892   \n",
       "154               SQ - WALMART SUPERCENTER #345   \n",
       "155                             Uber ride 08/15   \n",
       "156                     ACH TRANSFER 1234567890   \n",
       "157  AUTOPAY PAYMENT - THANK YOU ONLINE PAYMENT   \n",
       "\n",
       "               transaction.clean_memo  transaction.user_id  \\\n",
       "0                        ACH TRANSFER                    1   \n",
       "1                           Starbucks                    1   \n",
       "2                              Target                    1   \n",
       "3                            Chipotle                    1   \n",
       "4    Venmo Payment to Amy / Groceries                    1   \n",
       "..                                ...                  ...   \n",
       "153                         Starbucks                    1   \n",
       "154          WALMART SUPERCENTER #345                    1   \n",
       "155                         Uber ride                    1   \n",
       "156                      ACH TRANSFER                    1   \n",
       "157                   AUTOPAY PAYMENT                    1   \n",
       "\n",
       "     transaction.name_memo_sim            transaction.at  \\\n",
       "0                     0.111111 2024-09-01 08:10:29+00:00   \n",
       "1                     0.117647 2024-09-01 10:35:45+00:00   \n",
       "2                     0.142857 2024-09-01 13:45:33+00:00   \n",
       "3                     0.285714 2024-09-02 07:35:16+00:00   \n",
       "4                     0.350000 2024-09-02 09:25:44+00:00   \n",
       "..                         ...                       ...   \n",
       "153                   0.117647 2024-10-15 08:15:22+00:00   \n",
       "154                   0.125000 2024-10-15 09:34:01+00:00   \n",
       "155                   0.214286 2024-10-15 11:48:16+00:00   \n",
       "156                   0.111111 2024-10-15 14:22:45+00:00   \n",
       "157                   0.176471 2024-10-15 18:37:59+00:00   \n",
       "\n",
       "                                transaction.completion transaction.category  \\\n",
       "0    {\"category\": \"transfer\", \"is_nsf\": false, \"cle...             transfer   \n",
       "1    {\"category\": \"Food & Drink\", \"is_nsf\": false, ...         Food & Drink   \n",
       "2    {\"category\": \"shopping\", \"is_nsf\": false, \"cle...             shopping   \n",
       "3    {\"category\": \"Food\", \"is_nsf\": false, \"clean_m...                 Food   \n",
       "4    {\"category\": \"food\", \"is_nsf\": false, \"clean_m...                 food   \n",
       "..                                                 ...                  ...   \n",
       "153  {\"category\": \"Food and Drink\", \"is_nsf\": false...       Food and Drink   \n",
       "154  {\"category\": \"Shopping\", \"is_nsf\": false, \"cle...             Shopping   \n",
       "155  {\"category\": \"Transportation\", \"is_nsf\": false...       Transportation   \n",
       "156  {\"category\": \"ACH Transfer\", \"is_nsf\": false, ...         ACH Transfer   \n",
       "157  {\"category\": \"payment\", \"is_nsf\": false, \"clea...              payment   \n",
       "\n",
       "     transaction.is_nsf  transaction.is_ach  \n",
       "0                 False                True  \n",
       "1                 False               False  \n",
       "2                 False               False  \n",
       "3                 False               False  \n",
       "4                 False               False  \n",
       "..                  ...                 ...  \n",
       "153               False               False  \n",
       "154               False               False  \n",
       "155               False               False  \n",
       "156               False                True  \n",
       "157               False                True  \n",
       "\n",
       "[158 rows x 11 columns]"
      ]
     },
     "execution_count": 6,
     "metadata": {},
     "output_type": "execute_result"
    }
   ],
   "source": [
    "result = client.query(\n",
    "    input={User.id: 1},\n",
    "    output=[\n",
    "        User.transactions\n",
    "    ],\n",
    "    staleness={\n",
    "        User.credit_report.percent_past_due: \"0s\",\n",
    "    }\n",
    ")\n",
    "\n",
    "# get the transactions from the online query as a pandas dataframe\n",
    "result.get_feature_value(User.transactions).to_pandas()"
   ]
  },
  {
   "cell_type": "markdown",
   "id": "2259ca1d4a6f93bb",
   "metadata": {},
   "source": [
    "## 3. Running Offline Queries\n",
    "\n",
    "Chalk offline queries return `Dataset`s which are lazy references to parquet files in cloud storage. These datasets can be pulled into your local machine by calling: `ds.to_pandas()` or `ds.to_polars()`.\n"
   ]
  },
  {
   "cell_type": "code",
   "execution_count": 10,
   "id": "4eeb9e4ae26566af",
   "metadata": {},
   "outputs": [
    {
     "ename": "SyntaxError",
     "evalue": "invalid syntax. Perhaps you forgot a comma? (405617245.py, line 15)",
     "output_type": "error",
     "traceback": [
      "\u001b[0;36m  Cell \u001b[0;32mIn[10], line 15\u001b[0;36m\u001b[0m\n\u001b[0;31m    sh\u001b[0m\n\u001b[0m    ^\u001b[0m\n\u001b[0;31mSyntaxError\u001b[0m\u001b[0;31m:\u001b[0m invalid syntax. Perhaps you forgot a comma?\n"
     ]
    }
   ],
   "source": [
    "from chalk.client import Dataset, ResourceRequests\n",
    "\n",
    "# Chalk Offline\n",
    "dataset: Dataset = client.offline_query(\n",
    "    output=[\n",
    "        User.name,\n",
    "        User.denylisted,\n",
    "        User.name_email_match_score,\n",
    "        User.domain_name,\n",
    "        User.email_username,\n",
    "        User.total_spend,\n",
    "        User.credit_report.percent_past_due,\n",
    "    ],\n",
    "    recompute_features=[User.credit_report.percent_past_due],\n",
    "    \n",
    "    ## offline queries support horizontal and vertical scaling: they can be sharded and configured to run on their own \n",
    "    ## separate pods with a specified amounts of memory and cpu.\n",
    "    # run_asynchronously=True,\n",
    "    # ResourceRequests(cpu=4, memory=\"16Gi\"),\n",
    "    # num_shards=1, \n",
    "    \n",
    "    max_samples=30,\n",
    "    dataset_name=\"user_features\"\n",
    ")\n",
    "dataset"
   ]
  },
  {
   "cell_type": "code",
   "execution_count": 11,
   "id": "cba7110afa668dc4",
   "metadata": {},
   "outputs": [
    {
     "data": {
      "text/html": [
       "<div>\n",
       "<style scoped>\n",
       "    .dataframe tbody tr th:only-of-type {\n",
       "        vertical-align: middle;\n",
       "    }\n",
       "\n",
       "    .dataframe tbody tr th {\n",
       "        vertical-align: top;\n",
       "    }\n",
       "\n",
       "    .dataframe thead th {\n",
       "        text-align: right;\n",
       "    }\n",
       "</style>\n",
       "<table border=\"1\" class=\"dataframe\">\n",
       "  <thead>\n",
       "    <tr style=\"text-align: right;\">\n",
       "      <th></th>\n",
       "      <th>user.name</th>\n",
       "      <th>user.denylisted</th>\n",
       "      <th>user.name_email_match_score</th>\n",
       "      <th>user.domain_name</th>\n",
       "      <th>user.email_username</th>\n",
       "      <th>user.total_spend</th>\n",
       "      <th>user.credit_report.id</th>\n",
       "      <th>user.id</th>\n",
       "      <th>user.credit_report.percent_past_due</th>\n",
       "    </tr>\n",
       "  </thead>\n",
       "  <tbody>\n",
       "    <tr>\n",
       "      <th>0</th>\n",
       "      <td>Nicole Mann</td>\n",
       "      <td>False</td>\n",
       "      <td>75.0</td>\n",
       "      <td>nasa.gov</td>\n",
       "      <td>nicoleam</td>\n",
       "      <td>NaN</td>\n",
       "      <td>123</td>\n",
       "      <td>1</td>\n",
       "      <td>0.0</td>\n",
       "    </tr>\n",
       "    <tr>\n",
       "      <th>1</th>\n",
       "      <td>Emily Carter</td>\n",
       "      <td>False</td>\n",
       "      <td>75.0</td>\n",
       "      <td>gmail.com</td>\n",
       "      <td>emily_carter21</td>\n",
       "      <td>NaN</td>\n",
       "      <td>123</td>\n",
       "      <td>4</td>\n",
       "      <td>0.0</td>\n",
       "    </tr>\n",
       "  </tbody>\n",
       "</table>\n",
       "</div>"
      ],
      "text/plain": [
       "      user.name  user.denylisted  user.name_email_match_score  \\\n",
       "0   Nicole Mann            False                         75.0   \n",
       "1  Emily Carter            False                         75.0   \n",
       "\n",
       "  user.domain_name user.email_username  user.total_spend  \\\n",
       "0         nasa.gov            nicoleam               NaN   \n",
       "1        gmail.com      emily_carter21               NaN   \n",
       "\n",
       "   user.credit_report.id  user.id  user.credit_report.percent_past_due  \n",
       "0                    123        1                                  0.0  \n",
       "1                    123        4                                  0.0  "
      ]
     },
     "execution_count": 11,
     "metadata": {},
     "output_type": "execute_result"
    }
   ],
   "source": [
    "df = dataset.to_pandas()\n",
    "df"
   ]
  },
  {
   "cell_type": "markdown",
   "id": "d1f19214-46be-4f67-80a2-3b8cb6a0ac19",
   "metadata": {},
   "source": [
    "### Reading an Existing Dataset\n",
    "\n",
    "`client.offline_query` takes a `dataset_name` parameter. If this is supplied, the dataset can be read in a future session or by another user through it's name. It will also be searchable in the chalk dashboard by that name."
   ]
  },
  {
   "cell_type": "code",
   "execution_count": null,
   "id": "8eb68139-5228-4064-b445-2d726127b190",
   "metadata": {},
   "outputs": [],
   "source": [
    "dataset = client.get_dataset(dataset_name=\"user_features\")"
   ]
  },
  {
   "cell_type": "markdown",
   "id": "b99fc858-ceca-4d29-b7d4-6c5a4913d811",
   "metadata": {},
   "source": [
    "## 4. Creating New Features"
   ]
  },
  {
   "cell_type": "markdown",
   "id": "e3830df2-9e20-4450-9b07-776c31c2c2c0",
   "metadata": {},
   "source": [
    "### Alias Expressions\n",
    "\n",
    "[Chalk Expressions](https://docs.chalk.ai/docs/underscore) can be used to create and alias dynamic features. This is done by requesting an aliased expression as the output for a query:"
   ]
  },
  {
   "cell_type": "code",
   "execution_count": null,
   "id": "90871d6b-af2e-4172-94b4-2af34d6596b6",
   "metadata": {},
   "outputs": [],
   "source": [
    "from chalk.features import _\n",
    "result = client.query(\n",
    "    input={User.id: 1},\n",
    "    output=[\n",
    "        User.transactions,\n",
    "        (_.transactions[_.amount].mean()).alias(\"average_transaction_amt\")\n",
    "    ],\n",
    ")\n",
    "\n",
    "# get the t"
   ]
  },
  {
   "cell_type": "markdown",
   "id": "ea0bed8a-83bc-48ae-8e00-d84f9cbc7bcd",
   "metadata": {},
   "source": [
    "### New Feature Classes\n",
    "\n",
    "New features classes can be defined in notebook cells—[Chalk feature classes](https://docs.chalk.ai/docs/features) resemble pydantic base models or dataclasses. They contain features which are annotated using python type annotation."
   ]
  },
  {
   "cell_type": "code",
   "execution_count": 6,
   "id": "4cc7f933-8107-4d23-97b8-e2aa5e6412ad",
   "metadata": {},
   "outputs": [],
   "source": [
    "from chalk.features import features\n",
    "\n",
    "@features\n",
    "class Brand:\n",
    "    id: int\n",
    "    name: str\n",
    "    industry: str\n",
    "    url: str"
   ]
  },
  {
   "cell_type": "markdown",
   "id": "54c63767-9497-4060-946d-3a59bef6a4ee",
   "metadata": {},
   "source": [
    "### New SQL Resolvers\n",
    "\n",
    "SQL resolvers can be written for these new feature classes to pull data from data sources which have been linked in your Chalk dashboard. For example, the resolver below pulls features from a brands table in the Postgres datasource (named pg), which was connected in the Chalk dashboard."
   ]
  },
  {
   "cell_type": "code",
   "execution_count": 5,
   "id": "201d1b16-f449-4b49-945d-51b1cbc11fa1",
   "metadata": {},
   "outputs": [
    {
     "name": "stderr",
     "output_type": "stream",
     "text": [
      "UsageError: Cell magic `%%` not found.\n"
     ]
    }
   ],
   "source": [
    "%% sql_resolver get_brands\n",
    "-- resolves: Brand\n",
    "-- source: pg\n",
    "SELECT id, name, industry, url FROM brands"
   ]
  },
  {
   "cell_type": "code",
   "execution_count": 3,
   "id": "db252a75-92f8-4885-88b6-33b471b3fd34",
   "metadata": {
    "scrolled": true
   },
   "outputs": [
    {
     "ename": "NameError",
     "evalue": "name 'Brand' is not defined",
     "output_type": "error",
     "traceback": [
      "\u001b[0;31m---------------------------------------------------------------------------\u001b[0m",
      "\u001b[0;31mNameError\u001b[0m                                 Traceback (most recent call last)",
      "Cell \u001b[0;32mIn[3], line 3\u001b[0m\n\u001b[1;32m      1\u001b[0m \u001b[38;5;66;03m# Lets query our new feature!\u001b[39;00m\n\u001b[1;32m      2\u001b[0m client\u001b[38;5;241m.\u001b[39mquery(\n\u001b[0;32m----> 3\u001b[0m     \u001b[38;5;28minput\u001b[39m\u001b[38;5;241m=\u001b[39m{\u001b[43mBrand\u001b[49m\u001b[38;5;241m.\u001b[39mid: \u001b[38;5;241m1\u001b[39m},\n\u001b[1;32m      4\u001b[0m     output\u001b[38;5;241m=\u001b[39m[Brand\u001b[38;5;241m.\u001b[39mname, Brand\u001b[38;5;241m.\u001b[39mindustry, Brand\u001b[38;5;241m.\u001b[39murl]\n\u001b[1;32m      5\u001b[0m ) \n",
      "\u001b[0;31mNameError\u001b[0m: name 'Brand' is not defined"
     ]
    }
   ],
   "source": [
    "# Lets query our new feature!\n",
    "\n",
    "client.query(\n",
    "    input={Brand.id: 1},\n",
    "    output=[Brand.name, Brand.industry, Brand.url]\n",
    ") "
   ]
  },
  {
   "cell_type": "markdown",
   "id": "2c8f6be7-b029-4d37-ab16-351e603b5f6d",
   "metadata": {},
   "source": [
    "### Python Resolvers\n",
    "\n",
    "Feature classes can be updated and you can write python resolvers to derive features from the base features you're pulling from Postgres. Below, we write a python resolver, which gets the html for a brand's site. "
   ]
  },
  {
   "cell_type": "code",
   "execution_count": 4,
   "id": "7e468884-8749-42ff-ac1e-dc37c12127dd",
   "metadata": {},
   "outputs": [],
   "source": [
    "# Update features and create derived features\n",
    "\n",
    "@features\n",
    "class Brand:\n",
    "    id: int\n",
    "    name: str\n",
    "    industry: str\n",
    "    url: str\n",
    "    site_html: str | None\n",
    "\n",
    "\n",
    "# create a python online resolver for the new feature\n",
    "\n",
    "from chalk import online\n",
    "import requests\n",
    "\n",
    "@online\n",
    "def get_brand_site(url: Brand.url) -> Brand.site_html:\n",
    "    result = requests.get(url)\n",
    "    if result.status_code == 200:\n",
    "        return result.content\n",
    "    else:\n",
    "        return None"
   ]
  },
  {
   "cell_type": "code",
   "execution_count": 22,
   "id": "6013bcc9-1fac-4433-9b88-49e6ac8037a2",
   "metadata": {},
   "outputs": [
    {
     "name": "stdout",
     "output_type": "stream",
     "text": [
      "b'<!DOCTYPE html><html lang=\"en-US\"><head><meta charSet=\"utf-8\"/><meta name=\"viewport\" content=\"width=' ...\n"
     ]
    }
   ],
   "source": [
    "# Test Resolvers as Python Functions\n",
    "\n",
    "test_result = get_brand_site('https://www.nike.com')\n",
    "print(test_result[:100], \"...\")"
   ]
  },
  {
   "cell_type": "code",
   "execution_count": null,
   "id": "3c299540-ac55-440b-93f1-012ed7e4da91",
   "metadata": {},
   "outputs": [],
   "source": [
    "# Run an online query For new features\n",
    "client.query(\n",
    "    input={\n",
    "        Brand.id: 153,\n",
    "    },\n",
    "    output=[Brand.site_html]\n",
    ")\n"
   ]
  },
  {
   "cell_type": "code",
   "execution_count": 24,
   "id": "2530514e-b9c1-4089-8ea1-d1fbb52cf2d4",
   "metadata": {},
   "outputs": [],
   "source": [
    "# Run an offline query For your new features\n",
    "client.offline_query(\n",
    "    output=[Brand.site_html],\n",
    "    max_samples=20,\n",
    "    recompute_features=True\n",
    ")"
   ]
  },
  {
   "cell_type": "markdown",
   "id": "bb8c5c14-ca61-48e4-83b5-2ddcc3892b68",
   "metadata": {},
   "source": [
    "### Adding New Features to Existing Feature Classes\n",
    "\n",
    "Notebook defined features can be added to existing feature classes—here we specify a join between Transaction and Brand (based on the cleaned_memo and the brand name."
   ]
  },
  {
   "cell_type": "code",
   "execution_count": 26,
   "id": "b4b8930d-ab64-427a-ba39-e5ce06737713",
   "metadata": {},
   "outputs": [],
   "source": [
    "Transaction.brand: Brand | None = has_one(lambda: Transaction.memo == Brand.name)"
   ]
  },
  {
   "cell_type": "code",
   "execution_count": null,
   "id": "db4cefff-b7c2-4bee-b809-52b5eb44d882",
   "metadata": {},
   "outputs": [],
   "source": [
    "# Run an online query for new joined feature\n",
    "\n",
    "client.query(\n",
    "    input={\n",
    "        Transaction.id: 1\n",
    "    },\n",
    "    output=[Transaction.brand]\n",
    ")"
   ]
  },
  {
   "cell_type": "markdown",
   "id": "c6561d82-bdb3-40e5-8fdb-1b9b6c019ac0",
   "metadata": {},
   "source": [
    "### New DataFrame Taking Resolvers"
   ]
  },
  {
   "cell_type": "code",
   "execution_count": 30,
   "id": "ca2ed435-aa6b-43b6-8cbc-10ad10822120",
   "metadata": {},
   "outputs": [],
   "source": [
    "from chalk import online\n",
    "from chalk.features import feature, _, DataFrame\n",
    "\n",
    "User.max_rolling_sum_2days = feature(typ=float)\n",
    "\n",
    "@online\n",
    "def get_max_transaction_rolling_2(transactions: User.transactions[_.amount, _.at]) -> User.max_rolling_sum_2days:\n",
    "    df = transactions.to_pandas()\n",
    "    return df.sort_values(by=\"transaction.at\")[\"transaction.amount\"].rolling(2).sum().max()"
   ]
  },
  {
   "cell_type": "code",
   "execution_count": 33,
   "id": "bc3aaa47-7d69-45fa-8242-49b1d4a2417e",
   "metadata": {},
   "outputs": [],
   "source": [
    "# Test new DataFrame Taking resolver:\n",
    "\n",
    "from datetime import datetime, timedelta\n",
    "\n",
    "test_df = DataFrame(\n",
    "    [\n",
    "        Transaction(id=\"1\", amount=10, at = datetime.now()),\n",
    "        Transaction(id=\"2\", amount=1000, at = datetime.now() - timedelta(days=2)),\n",
    "        Transaction(id=\"3\", amount=26, at = datetime.now() - timedelta(days=5)),\n",
    "        Transaction(id=\"4\", amount=3000, at = datetime.now() - timedelta(days=3)),\n",
    "        Transaction(id=\"5\", amount=1000, at = datetime.now() - timedelta(days=1))\n",
    "    ]\n",
    ")\n",
    "\n",
    "\n",
    "assert get_max_transaction_rolling_2(test_df) == 4000"
   ]
  },
  {
   "cell_type": "code",
   "execution_count": null,
   "id": "7ec1b8c8-2592-4fba-b0a0-9305fad0b265",
   "metadata": {},
   "outputs": [],
   "source": [
    "# Run an online query for new joined feature\n",
    "\n",
    "client.query(\n",
    "    input={\n",
    "        User.id: 1\n",
    "    },\n",
    "    output=[User.max_rolling_sum_2days]\n",
    ")"
   ]
  },
  {
   "cell_type": "code",
   "execution_count": null,
   "id": "2950fa50-4d02-44ab-bde9-03f91f4fa0db",
   "metadata": {},
   "outputs": [],
   "source": []
  }
 ],
 "metadata": {
  "kernelspec": {
   "display_name": "chalk",
   "language": "python",
   "name": "chalk"
  },
  "language_info": {
   "codemirror_mode": {
    "name": "ipython",
    "version": 3
   },
   "file_extension": ".py",
   "mimetype": "text/x-python",
   "name": "python",
   "nbconvert_exporter": "python",
   "pygments_lexer": "ipython3",
   "version": "3.10.14"
  }
 },
 "nbformat": 4,
 "nbformat_minor": 5
}
